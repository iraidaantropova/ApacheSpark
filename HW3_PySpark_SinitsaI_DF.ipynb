{
  "nbformat": 4,
  "nbformat_minor": 0,
  "metadata": {
    "colab": {
      "provenance": [],
      "authorship_tag": "ABX9TyNdquAqh1FBQ0YWy2clS7Gx",
      "include_colab_link": true
    },
    "kernelspec": {
      "name": "python3",
      "display_name": "Python 3"
    },
    "language_info": {
      "name": "python"
    }
  },
  "cells": [
    {
      "cell_type": "markdown",
      "metadata": {
        "id": "view-in-github",
        "colab_type": "text"
      },
      "source": [
        "<a href=\"https://colab.research.google.com/github/iraidaantropova/ApacheSpark/blob/main/HW3_PySpark_SinitsaI_DF.ipynb\" target=\"_parent\"><img src=\"https://colab.research.google.com/assets/colab-badge.svg\" alt=\"Open In Colab\"/></a>"
      ]
    },
    {
      "cell_type": "code",
      "source": [
        "!pip install pyspark"
      ],
      "metadata": {
        "colab": {
          "base_uri": "https://localhost:8080/"
        },
        "id": "NHr-La8joJJF",
        "outputId": "8ad48f93-5dab-42e3-a2b4-15f540ab7644"
      },
      "execution_count": 1,
      "outputs": [
        {
          "output_type": "stream",
          "name": "stdout",
          "text": [
            "Collecting pyspark\n",
            "  Downloading pyspark-3.4.1.tar.gz (310.8 MB)\n",
            "\u001b[2K     \u001b[90m━━━━━━━━━━━━━━━━━━━━━━━━━━━━━━━━━━━━━━━\u001b[0m \u001b[32m310.8/310.8 MB\u001b[0m \u001b[31m3.6 MB/s\u001b[0m eta \u001b[36m0:00:00\u001b[0m\n",
            "\u001b[?25h  Preparing metadata (setup.py) ... \u001b[?25l\u001b[?25hdone\n",
            "Requirement already satisfied: py4j==0.10.9.7 in /usr/local/lib/python3.10/dist-packages (from pyspark) (0.10.9.7)\n",
            "Building wheels for collected packages: pyspark\n",
            "  Building wheel for pyspark (setup.py) ... \u001b[?25l\u001b[?25hdone\n",
            "  Created wheel for pyspark: filename=pyspark-3.4.1-py2.py3-none-any.whl size=311285398 sha256=b2085486e6aecdf588a9098b574db4e8dd0946aa4db23b968e0eed483c6c34d8\n",
            "  Stored in directory: /root/.cache/pip/wheels/0d/77/a3/ff2f74cc9ab41f8f594dabf0579c2a7c6de920d584206e0834\n",
            "Successfully built pyspark\n",
            "Installing collected packages: pyspark\n",
            "Successfully installed pyspark-3.4.1\n"
          ]
        }
      ]
    },
    {
      "cell_type": "code",
      "source": [
        "#точка входа в spark\n",
        "\n",
        "from pyspark.sql import SparkSession\n",
        "import pyspark.sql.functions as F\n",
        "\n",
        "\n",
        "spark = SparkSession.builder\\\n",
        "        .master('local[4]')\\\n",
        "        .appName('Lesson_2')\\\n",
        "        .config('spark.ui.port', '4050')\\\n",
        "        .config('spark.executor.instances', 2)\\\n",
        "        .config('spark.executor.memory', '5g')\\\n",
        "        .config('spark.executor.cores', 2)\\\n",
        "        .getOrCreate()\n",
        "\n",
        "sc = spark.sparkContext"
      ],
      "metadata": {
        "id": "EXYDGUtvov5x"
      },
      "execution_count": 2,
      "outputs": []
    },
    {
      "cell_type": "code",
      "source": [
        "spark"
      ],
      "metadata": {
        "colab": {
          "base_uri": "https://localhost:8080/",
          "height": 219
        },
        "id": "mlDVb7r_o5eT",
        "outputId": "35d0e820-eab3-4841-9c48-fc289967b498"
      },
      "execution_count": 3,
      "outputs": [
        {
          "output_type": "execute_result",
          "data": {
            "text/plain": [
              "<pyspark.sql.session.SparkSession at 0x7efff5f2a5f0>"
            ],
            "text/html": [
              "\n",
              "            <div>\n",
              "                <p><b>SparkSession - in-memory</b></p>\n",
              "                \n",
              "        <div>\n",
              "            <p><b>SparkContext</b></p>\n",
              "\n",
              "            <p><a href=\"http://965d186536ad:4050\">Spark UI</a></p>\n",
              "\n",
              "            <dl>\n",
              "              <dt>Version</dt>\n",
              "                <dd><code>v3.4.1</code></dd>\n",
              "              <dt>Master</dt>\n",
              "                <dd><code>local[4]</code></dd>\n",
              "              <dt>AppName</dt>\n",
              "                <dd><code>Lesson_2</code></dd>\n",
              "            </dl>\n",
              "        </div>\n",
              "        \n",
              "            </div>\n",
              "        "
            ]
          },
          "metadata": {},
          "execution_count": 3
        }
      ]
    },
    {
      "cell_type": "code",
      "source": [
        "#считывание данных\n",
        "# Прочитайте содержимое каждого файла в датафрейм и выведите первые несколько строк\n",
        "# Применив cast к колонке можно изменить тип данных (F.col().cast(IntegerType()).alias())\n",
        "# Приведите все данные к правильному типу, либо считайе сразу верно\n",
        "\n",
        "train = spark.read.csv('train.csv', header=True)\n",
        "test = spark.read.csv('test.csv', header=True)"
      ],
      "metadata": {
        "id": "2HXbSNzHqBGO"
      },
      "execution_count": 4,
      "outputs": []
    },
    {
      "cell_type": "code",
      "source": [
        "train.show()"
      ],
      "metadata": {
        "colab": {
          "base_uri": "https://localhost:8080/"
        },
        "id": "S4Ld_pXArW-t",
        "outputId": "1acecdb8-c1bc-400e-f282-0474b4d41d16"
      },
      "execution_count": 5,
      "outputs": [
        {
          "output_type": "stream",
          "name": "stdout",
          "text": [
            "+-------------+----+-----------+--------+---+------+----------+-----+---------+-------+---+---------+--------+----+----+----+---------+-------+------------+----+-----------+\n",
            "|battery_power|blue|clock_speed|dual_sim| fc|four_g|int_memory|m_dep|mobile_wt|n_cores| pc|px_height|px_width| ram|sc_h|sc_w|talk_time|three_g|touch_screen|wifi|price_range|\n",
            "+-------------+----+-----------+--------+---+------+----------+-----+---------+-------+---+---------+--------+----+----+----+---------+-------+------------+----+-----------+\n",
            "|          842|   0|        2.2|       0|  1|     0|         7|  0.6|      188|      2|  2|       20|     756|2549|   9|   7|       19|      0|           0|   1|          1|\n",
            "|         1021|   1|        0.5|       1|  0|     1|        53|  0.7|      136|      3|  6|      905|    1988|2631|  17|   3|        7|      1|           1|   0|          2|\n",
            "|          563|   1|        0.5|       1|  2|     1|        41|  0.9|      145|      5|  6|     1263|    1716|2603|  11|   2|        9|      1|           1|   0|          2|\n",
            "|          615|   1|        2.5|       0|  0|     0|        10|  0.8|      131|      6|  9|     1216|    1786|2769|  16|   8|       11|      1|           0|   0|          2|\n",
            "|         1821|   1|        1.2|       0| 13|     1|        44|  0.6|      141|      2| 14|     1208|    1212|1411|   8|   2|       15|      1|           1|   0|          1|\n",
            "|         1859|   0|        0.5|       1|  3|     0|        22|  0.7|      164|      1|  7|     1004|    1654|1067|  17|   1|       10|      1|           0|   0|          1|\n",
            "|         1821|   0|        1.7|       0|  4|     1|        10|  0.8|      139|      8| 10|      381|    1018|3220|  13|   8|       18|      1|           0|   1|          3|\n",
            "|         1954|   0|        0.5|       1|  0|     0|        24|  0.8|      187|      4|  0|      512|    1149| 700|  16|   3|        5|      1|           1|   1|          0|\n",
            "|         1445|   1|        0.5|       0|  0|     0|        53|  0.7|      174|      7| 14|      386|     836|1099|  17|   1|       20|      1|           0|   0|          0|\n",
            "|          509|   1|        0.6|       1|  2|     1|         9|  0.1|       93|      5| 15|     1137|    1224| 513|  19|  10|       12|      1|           0|   0|          0|\n",
            "|          769|   1|        2.9|       1|  0|     0|         9|  0.1|      182|      5|  1|      248|     874|3946|   5|   2|        7|      0|           0|   0|          3|\n",
            "|         1520|   1|        2.2|       0|  5|     1|        33|  0.5|      177|      8| 18|      151|    1005|3826|  14|   9|       13|      1|           1|   1|          3|\n",
            "|         1815|   0|        2.8|       0|  2|     0|        33|  0.6|      159|      4| 17|      607|     748|1482|  18|   0|        2|      1|           0|   0|          1|\n",
            "|          803|   1|        2.1|       0|  7|     0|        17|  1.0|      198|      4| 11|      344|    1440|2680|   7|   1|        4|      1|           0|   1|          2|\n",
            "|         1866|   0|        0.5|       0| 13|     1|        52|  0.7|      185|      1| 17|      356|     563| 373|  14|   9|        3|      1|           0|   1|          0|\n",
            "|          775|   0|        1.0|       0|  3|     0|        46|  0.7|      159|      2| 16|      862|    1864| 568|  17|  15|       11|      1|           1|   1|          0|\n",
            "|          838|   0|        0.5|       0|  1|     1|        13|  0.1|      196|      8|  4|      984|    1850|3554|  10|   9|       19|      1|           0|   1|          3|\n",
            "|          595|   0|        0.9|       1|  7|     1|        23|  0.1|      121|      3| 17|      441|     810|3752|  10|   2|       18|      1|           1|   0|          3|\n",
            "|         1131|   1|        0.5|       1| 11|     0|        49|  0.6|      101|      5| 18|      658|     878|1835|  19|  13|       16|      1|           1|   0|          1|\n",
            "|          682|   1|        0.5|       0|  4|     0|        19|  1.0|      121|      4| 11|      902|    1064|2337|  11|   1|       18|      0|           1|   1|          1|\n",
            "+-------------+----+-----------+--------+---+------+----------+-----+---------+-------+---+---------+--------+----+----+----+---------+-------+------------+----+-----------+\n",
            "only showing top 20 rows\n",
            "\n"
          ]
        }
      ]
    },
    {
      "cell_type": "code",
      "source": [
        "#объединение train и test\n",
        "\n",
        "data = train.drop('price_range').unionByName(test.drop('id'))"
      ],
      "metadata": {
        "id": "zbb_hy90rgJ8"
      },
      "execution_count": 6,
      "outputs": []
    },
    {
      "cell_type": "code",
      "source": [
        "data.count()"
      ],
      "metadata": {
        "colab": {
          "base_uri": "https://localhost:8080/"
        },
        "id": "CiSwoztnvThE",
        "outputId": "04e0d963-f634-4673-80b3-879b6dd837e1"
      },
      "execution_count": 7,
      "outputs": [
        {
          "output_type": "execute_result",
          "data": {
            "text/plain": [
              "3000"
            ]
          },
          "metadata": {},
          "execution_count": 7
        }
      ]
    },
    {
      "cell_type": "code",
      "source": [
        "import pandas as pd"
      ],
      "metadata": {
        "id": "1S1D97Z_vaWV"
      },
      "execution_count": 8,
      "outputs": []
    },
    {
      "cell_type": "code",
      "source": [
        "train = train.drop('price_range')\n",
        "test = test.drop('id')\n",
        "\n",
        "pandas_train = train.toPandas()\n",
        "pandas_test = test.toPandas()\n",
        "\n",
        "merged_pandas_df = pd.concat([pandas_train, pandas_test], axis=0)\n",
        "\n",
        "spark_df = spark.createDataFrame(merged_pandas_df)"
      ],
      "metadata": {
        "id": "7I7nZPRh1mhr"
      },
      "execution_count": 9,
      "outputs": []
    },
    {
      "cell_type": "code",
      "source": [
        "spark_df.printSchema()"
      ],
      "metadata": {
        "colab": {
          "base_uri": "https://localhost:8080/"
        },
        "id": "qAcr9mdj1pqk",
        "outputId": "bd2f0013-9a74-4f86-96b2-d76abef6b1e9"
      },
      "execution_count": 10,
      "outputs": [
        {
          "output_type": "stream",
          "name": "stdout",
          "text": [
            "root\n",
            " |-- battery_power: string (nullable = true)\n",
            " |-- blue: string (nullable = true)\n",
            " |-- clock_speed: string (nullable = true)\n",
            " |-- dual_sim: string (nullable = true)\n",
            " |-- fc: string (nullable = true)\n",
            " |-- four_g: string (nullable = true)\n",
            " |-- int_memory: string (nullable = true)\n",
            " |-- m_dep: string (nullable = true)\n",
            " |-- mobile_wt: string (nullable = true)\n",
            " |-- n_cores: string (nullable = true)\n",
            " |-- pc: string (nullable = true)\n",
            " |-- px_height: string (nullable = true)\n",
            " |-- px_width: string (nullable = true)\n",
            " |-- ram: string (nullable = true)\n",
            " |-- sc_h: string (nullable = true)\n",
            " |-- sc_w: string (nullable = true)\n",
            " |-- talk_time: string (nullable = true)\n",
            " |-- three_g: string (nullable = true)\n",
            " |-- touch_screen: string (nullable = true)\n",
            " |-- wifi: string (nullable = true)\n",
            "\n"
          ]
        }
      ]
    },
    {
      "cell_type": "code",
      "source": [
        "#Рассчитайте соотношение сторон телефона и экрана\n",
        "# Выведите отсортированное распределение плотности пикселей (1 балла)\n",
        "# в пикселях на дюйм\n",
        "\n",
        "data = data.withColumn('ppi',\n",
        "                      (F.pow(F.pow(F.col('px_height'), F.lit(2)) + F.pow(F.col('px_width'), F.lit(2)), F.lit(0.5)) /\n",
        "        F.pow(F.pow(F.col('sc_h'), F.lit(2)) + F.pow(F.col('sc_w'), F.lit(2)), F.lit(0.5)))\n",
        "    )\n",
        "data.show()"
      ],
      "metadata": {
        "colab": {
          "base_uri": "https://localhost:8080/"
        },
        "id": "eU7HLcoT1v63",
        "outputId": "8f3c041f-e99a-4efd-89d3-527884338730"
      },
      "execution_count": 11,
      "outputs": [
        {
          "output_type": "stream",
          "name": "stdout",
          "text": [
            "+-------------+----+-----------+--------+---+------+----------+-----+---------+-------+---+---------+--------+----+----+----+---------+-------+------------+----+------------------+\n",
            "|battery_power|blue|clock_speed|dual_sim| fc|four_g|int_memory|m_dep|mobile_wt|n_cores| pc|px_height|px_width| ram|sc_h|sc_w|talk_time|three_g|touch_screen|wifi|               ppi|\n",
            "+-------------+----+-----------+--------+---+------+----------+-----+---------+-------+---+---------+--------+----+----+----+---------+-------+------------+----+------------------+\n",
            "|          842|   0|        2.2|       0|  1|     0|         7|  0.6|      188|      2|  2|       20|     756|2549|   9|   7|       19|      0|           0|   1|  66.3287847944442|\n",
            "|         1021|   1|        0.5|       1|  0|     1|        53|  0.7|      136|      3|  6|      905|    1988|2631|  17|   3|        7|      1|           1|   0|126.53313490223783|\n",
            "|          563|   1|        0.5|       1|  2|     1|        41|  0.9|      145|      5|  6|     1263|    1716|2603|  11|   2|        9|      1|           1|   0|190.57439492229798|\n",
            "|          615|   1|        2.5|       0|  0|     0|        10|  0.8|      131|      6|  9|     1216|    1786|2769|  16|   8|       11|      1|           0|   0|120.78457062058878|\n",
            "|         1821|   1|        1.2|       0| 13|     1|        44|  0.6|      141|      2| 14|     1208|    1212|1411|   8|   2|       15|      1|           1|   0|207.51357149097785|\n",
            "|         1859|   0|        0.5|       1|  3|     0|        22|  0.7|      164|      1|  7|     1004|    1654|1067|  17|   1|       10|      1|           0|   0|113.61963162083906|\n",
            "|         1821|   0|        1.7|       0|  4|     1|        10|  0.8|      139|      8| 10|      381|    1018|3220|  13|   8|       18|      1|           0|   1| 71.20920637783695|\n",
            "|         1954|   0|        0.5|       1|  0|     0|        24|  0.8|      187|      4|  0|      512|    1149| 700|  16|   3|        5|      1|           1|   1| 77.27297850831926|\n",
            "|         1445|   1|        0.5|       0|  0|     0|        53|  0.7|      174|      7| 14|      386|     836|1099|  17|   1|       20|      1|           0|   0| 54.07185513038533|\n",
            "|          509|   1|        0.6|       1|  2|     1|         9|  0.1|       93|      5| 15|     1137|    1224| 513|  19|  10|       12|      1|           0|   0|  77.8081655680639|\n",
            "|          769|   1|        2.9|       1|  0|     0|         9|  0.1|      182|      5|  1|      248|     874|3946|   5|   2|        7|      0|           0|   0|168.70500677319814|\n",
            "|         1520|   1|        2.2|       0|  5|     1|        33|  0.5|      177|      8| 18|      151|    1005|3826|  14|   9|       13|      1|           1|   1|61.062375636815446|\n",
            "|         1815|   0|        2.8|       0|  2|     0|        33|  0.6|      159|      4| 17|      607|     748|1482|  18|   0|        2|      1|           0|   0|53.516842854710724|\n",
            "|          803|   1|        2.1|       0|  7|     0|        17|  1.0|      198|      4| 11|      344|    1440|2680|   7|   1|        4|      1|           0|   1| 209.3769805876472|\n",
            "|         1866|   0|        0.5|       0| 13|     1|        52|  0.7|      185|      1| 17|      356|     563| 373|  14|   9|        3|      1|           0|   1|40.022782320737534|\n",
            "|          775|   0|        1.0|       0|  3|     0|        46|  0.7|      159|      2| 16|      862|    1864| 568|  17|  15|       11|      1|           1|   1| 90.58328068302457|\n",
            "|          838|   0|        0.5|       0|  1|     1|        13|  0.1|      196|      8|  4|      984|    1850|3554|  10|   9|       19|      1|           0|   1|155.75082806196878|\n",
            "|          595|   0|        0.9|       1|  7|     1|        23|  0.1|      121|      3| 17|      441|     810|3752|  10|   2|       18|      1|           1|   0| 90.43596331956918|\n",
            "|         1131|   1|        0.5|       1| 11|     0|        49|  0.6|      101|      5| 18|      658|     878|1835|  19|  13|       16|      1|           1|   0|47.659325643096516|\n",
            "|          682|   1|        0.5|       0|  4|     0|        19|  1.0|      121|      4| 11|      902|    1064|2337|  11|   1|       18|      0|           1|   1|126.28681901028985|\n",
            "+-------------+----+-----------+--------+---+------+----------+-----+---------+-------+---+---------+--------+----+----+----+---------+-------+------------+----+------------------+\n",
            "only showing top 20 rows\n",
            "\n"
          ]
        }
      ]
    },
    {
      "cell_type": "code",
      "source": [
        "# Сохраните результат в csv sep=';', encoding='cp1251'\n",
        "# с колонками id, плотность пикселей и общей инфой в формате \"2 ядра 2 гига\"\n",
        "\n",
        "data.select(\n",
        "    F.monotonically_increasing_id(),\n",
        "    'ppi',\n",
        "    F.concat_ws(' ',\n",
        "        F.col('n_cores'),\n",
        "        F.lit('ядра')).alias('desc'))\\\n",
        ".write.option('encoding', 'cp1252').csv('results.csv', mode='overwrite', sep=';')"
      ],
      "metadata": {
        "id": "v18QKG5O2yBe"
      },
      "execution_count": 12,
      "outputs": []
    }
  ]
}