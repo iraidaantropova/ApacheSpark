{
  "nbformat": 4,
  "nbformat_minor": 0,
  "metadata": {
    "colab": {
      "provenance": [],
      "authorship_tag": "ABX9TyPx8j0pYQk+U/TddHXMtYrQ",
      "include_colab_link": true
    },
    "kernelspec": {
      "name": "python3",
      "display_name": "Python 3"
    },
    "language_info": {
      "name": "python"
    }
  },
  "cells": [
    {
      "cell_type": "markdown",
      "metadata": {
        "id": "view-in-github",
        "colab_type": "text"
      },
      "source": [
        "<a href=\"https://colab.research.google.com/github/iraidaantropova/ApacheSpark/blob/main/HW3_PySpark_SinitsaI_RDD.ipynb\" target=\"_parent\"><img src=\"https://colab.research.google.com/assets/colab-badge.svg\" alt=\"Open In Colab\"/></a>"
      ]
    },
    {
      "cell_type": "code",
      "source": [
        "!pip install pyspark"
      ],
      "metadata": {
        "colab": {
          "base_uri": "https://localhost:8080/"
        },
        "id": "HCcPoUTr4DpL",
        "outputId": "39639e4e-a168-407e-eff5-5e8f609d7c1b"
      },
      "execution_count": 15,
      "outputs": [
        {
          "output_type": "stream",
          "name": "stdout",
          "text": [
            "Requirement already satisfied: pyspark in /usr/local/lib/python3.10/dist-packages (3.4.1)\n",
            "Requirement already satisfied: py4j==0.10.9.7 in /usr/local/lib/python3.10/dist-packages (from pyspark) (0.10.9.7)\n"
          ]
        }
      ]
    },
    {
      "cell_type": "code",
      "execution_count": 43,
      "metadata": {
        "id": "UBO0qNqn3aAz"
      },
      "outputs": [],
      "source": [
        "#создаем точку входа\n",
        "\n",
        "from pyspark.sql import SparkSession\n",
        "\n",
        "spark = SparkSession.builder\\\n",
        "        .master('local[4]')\\\n",
        "        .appName('Lesson_2')\\\n",
        "        .config('spark.ui.port', '4050')\\\n",
        "        .config('spark.executor.instances', 2)\\\n",
        "        .config('spark.executor.memory', '4g')\\\n",
        "        .config('spark.executor.cores', 2)\\\n",
        "        .getOrCreate()\n",
        "\n",
        "sc = spark.sparkContext"
      ]
    },
    {
      "cell_type": "code",
      "source": [
        "import requests\n",
        "import matplotlib.pyplot as plt\n",
        "\n",
        "import numpy as np\n",
        "import seaborn as sns\n",
        "\n",
        "import math"
      ],
      "metadata": {
        "id": "f2NonggI-58u"
      },
      "execution_count": 44,
      "outputs": []
    },
    {
      "cell_type": "code",
      "source": [
        "# Вспомогательная функция\n",
        "\n",
        "def beautiful_print(rdd, num, title, line_break=0):\n",
        "\n",
        "    if line_break:\n",
        "        for i, column in enumerate(title):\n",
        "            if i % line_break == 0 and i != 0:\n",
        "                print('\\n', end='')\n",
        "            print(column, end=', ')\n",
        "        print('\\n')\n",
        "    else:\n",
        "        print(title)\n",
        "    for row in rdd.take(num):\n",
        "        print('\\t', row)"
      ],
      "metadata": {
        "id": "6HhMKo784Xpp"
      },
      "execution_count": 45,
      "outputs": []
    },
    {
      "cell_type": "code",
      "source": [
        "train = sc.textFile('train.csv')\n",
        "beautiful_print(train, 3, 'Train:')\n",
        "train_first_row = train.first()\n",
        "print(f\"Train size: {train.count()} x {len(train_first_row.split(','))}\")"
      ],
      "metadata": {
        "colab": {
          "base_uri": "https://localhost:8080/"
        },
        "id": "XZibwpZX46z6",
        "outputId": "befb9a3c-017d-49fb-d92d-1d10bfab3761"
      },
      "execution_count": 46,
      "outputs": [
        {
          "output_type": "stream",
          "name": "stdout",
          "text": [
            "Train:\n",
            "\t battery_power,blue,clock_speed,dual_sim,fc,four_g,int_memory,m_dep,mobile_wt,n_cores,pc,px_height,px_width,ram,sc_h,sc_w,talk_time,three_g,touch_screen,wifi,price_range\n",
            "\t 842,0,2.2,0,1,0,7,0.6,188,2,2,20,756,2549,9,7,19,0,0,1,1\n",
            "\t 1021,1,0.5,1,0,1,53,0.7,136,3,6,905,1988,2631,17,3,7,1,1,0,2\n",
            "Train size: 2001 x 21\n"
          ]
        }
      ]
    },
    {
      "cell_type": "code",
      "source": [
        "def get_size(rdd, columns, name):\n",
        "    try:\n",
        "        print(f\"{name} size: {rdd.count()} x {len(columns.split(','))}\")\n",
        "    except AttributeError:\n",
        "        print(f\"{name} size: {rdd.count()} x {len(' '.join(columns).split(','))}\")\n",
        "\n",
        "\n",
        "train = sc.textFile('train.csv')\n",
        "beautiful_print(train, 3, 'Train:')\n",
        "get_size(train, train.first(), 'train')"
      ],
      "metadata": {
        "colab": {
          "base_uri": "https://localhost:8080/"
        },
        "id": "VimzF4ug7roR",
        "outputId": "1dbbdb1f-d0c7-4011-a99a-875eb22c91a4"
      },
      "execution_count": 47,
      "outputs": [
        {
          "output_type": "stream",
          "name": "stdout",
          "text": [
            "Train:\n",
            "\t battery_power,blue,clock_speed,dual_sim,fc,four_g,int_memory,m_dep,mobile_wt,n_cores,pc,px_height,px_width,ram,sc_h,sc_w,talk_time,three_g,touch_screen,wifi,price_range\n",
            "\t 842,0,2.2,0,1,0,7,0.6,188,2,2,20,756,2549,9,7,19,0,0,1,1\n",
            "\t 1021,1,0.5,1,0,1,53,0.7,136,3,6,905,1988,2631,17,3,7,1,1,0,2\n",
            "train size: 2001 x 21\n"
          ]
        }
      ]
    },
    {
      "cell_type": "code",
      "source": [
        "# Задание 1\n",
        "#  Прочитайте test.csv\n",
        "\n",
        "test = sc.textFile('test.csv')\n",
        "beautiful_print(test, 3, 'Test:')\n",
        "test_first_row = test.first()\n",
        "print(f\"Test size: {test.count()} x {len(test_first_row.split(','))}\")"
      ],
      "metadata": {
        "colab": {
          "base_uri": "https://localhost:8080/"
        },
        "id": "F1fD77qu4_gk",
        "outputId": "c9f51840-5d4d-4442-df08-4c08ccdd4fbb"
      },
      "execution_count": 48,
      "outputs": [
        {
          "output_type": "stream",
          "name": "stdout",
          "text": [
            "Test:\n",
            "\t id,battery_power,blue,clock_speed,dual_sim,fc,four_g,int_memory,m_dep,mobile_wt,n_cores,pc,px_height,px_width,ram,sc_h,sc_w,talk_time,three_g,touch_screen,wifi\n",
            "\t 1,1043,1,1.8,1,14,0,5,0.1,193,3,16,226,1412,3476,12,7,2,0,1,0\n",
            "\t 2,841,1,0.5,1,4,1,61,0.8,191,5,12,746,857,3895,6,0,7,1,0,0\n",
            "Test size: 1001 x 21\n"
          ]
        }
      ]
    },
    {
      "cell_type": "code",
      "source": [
        "#преобразуем train и test\n",
        "\n",
        "train_first_row = train.first()\n",
        "train = train\\\n",
        "    .filter(lambda row: row != train_first_row)\\\n",
        "    .map(lambda row: [float(el) for el in row.split(',')])\n",
        "\n",
        "train_header = train_first_row.split(',')\n",
        "beautiful_print(train, 3, train_header, line_break=8)"
      ],
      "metadata": {
        "colab": {
          "base_uri": "https://localhost:8080/"
        },
        "id": "Y31N9iDj5ztD",
        "outputId": "5562b062-6836-499b-8dc4-3424a1987d5a"
      },
      "execution_count": 49,
      "outputs": [
        {
          "output_type": "stream",
          "name": "stdout",
          "text": [
            "battery_power, blue, clock_speed, dual_sim, fc, four_g, int_memory, m_dep, \n",
            "mobile_wt, n_cores, pc, px_height, px_width, ram, sc_h, sc_w, \n",
            "talk_time, three_g, touch_screen, wifi, price_range, \n",
            "\n",
            "\t [842.0, 0.0, 2.2, 0.0, 1.0, 0.0, 7.0, 0.6, 188.0, 2.0, 2.0, 20.0, 756.0, 2549.0, 9.0, 7.0, 19.0, 0.0, 0.0, 1.0, 1.0]\n",
            "\t [1021.0, 1.0, 0.5, 1.0, 0.0, 1.0, 53.0, 0.7, 136.0, 3.0, 6.0, 905.0, 1988.0, 2631.0, 17.0, 3.0, 7.0, 1.0, 1.0, 0.0, 2.0]\n",
            "\t [563.0, 1.0, 0.5, 1.0, 2.0, 1.0, 41.0, 0.9, 145.0, 5.0, 6.0, 1263.0, 1716.0, 2603.0, 11.0, 2.0, 9.0, 1.0, 1.0, 0.0, 2.0]\n"
          ]
        }
      ]
    },
    {
      "cell_type": "code",
      "source": [
        "# Задание 2\n",
        "#  Приведите test.csv к аналогичному виду, что и train\n",
        "\n",
        "test = test\\\n",
        "    .filter(lambda row: row != test_first_row)\\\n",
        "    .map(lambda row: [float(el) for el in row.split(',')])\n",
        "\n",
        "test_header = test_first_row.split(',')\n",
        "beautiful_print(test, 3, test_header)\n"
      ],
      "metadata": {
        "colab": {
          "base_uri": "https://localhost:8080/"
        },
        "id": "MDZxI-Jv568m",
        "outputId": "0006d47b-fc3f-45de-d685-cd2ae977a39a"
      },
      "execution_count": 50,
      "outputs": [
        {
          "output_type": "stream",
          "name": "stdout",
          "text": [
            "['id', 'battery_power', 'blue', 'clock_speed', 'dual_sim', 'fc', 'four_g', 'int_memory', 'm_dep', 'mobile_wt', 'n_cores', 'pc', 'px_height', 'px_width', 'ram', 'sc_h', 'sc_w', 'talk_time', 'three_g', 'touch_screen', 'wifi']\n",
            "\t [1.0, 1043.0, 1.0, 1.8, 1.0, 14.0, 0.0, 5.0, 0.1, 193.0, 3.0, 16.0, 226.0, 1412.0, 3476.0, 12.0, 7.0, 2.0, 0.0, 1.0, 0.0]\n",
            "\t [2.0, 841.0, 1.0, 0.5, 1.0, 4.0, 1.0, 61.0, 0.8, 191.0, 5.0, 12.0, 746.0, 857.0, 3895.0, 6.0, 0.0, 7.0, 1.0, 0.0, 0.0]\n",
            "\t [3.0, 1807.0, 1.0, 2.8, 0.0, 1.0, 0.0, 27.0, 0.9, 186.0, 3.0, 4.0, 1270.0, 1366.0, 2396.0, 17.0, 10.0, 10.0, 0.0, 1.0, 1.0]\n"
          ]
        }
      ]
    },
    {
      "cell_type": "code",
      "source": [
        "#Объединим train и test\n",
        "\n",
        "# Задание 3\n",
        "#  Объедините данные\n",
        "\n",
        "rdd = sc.union([train, test])\n",
        "print('общее кол-во строк', rdd.count())\n"
      ],
      "metadata": {
        "colab": {
          "base_uri": "https://localhost:8080/"
        },
        "id": "f8xNbPG46Nuc",
        "outputId": "0c1db2d2-68cc-4e26-b0e1-795f208a9cbd"
      },
      "execution_count": 51,
      "outputs": [
        {
          "output_type": "stream",
          "name": "stdout",
          "text": [
            "общее кол-во строк 3000\n"
          ]
        }
      ]
    },
    {
      "cell_type": "code",
      "source": [
        "# Задание 4\n",
        "#  Рассчитайте соотношение сторон экрана и найдите широкоформатные, выведите это распределение\n",
        "\n",
        "sc_h = train_header.index('sc_h')\n",
        "sc_w = train_header.index('sc_w')\n",
        "sc_h, sc_w\n"
      ],
      "metadata": {
        "colab": {
          "base_uri": "https://localhost:8080/"
        },
        "id": "4JPwxZqf7JnX",
        "outputId": "9fc513a0-9300-47a1-e5a2-9d714c812d51"
      },
      "execution_count": 52,
      "outputs": [
        {
          "output_type": "execute_result",
          "data": {
            "text/plain": [
              "(14, 15)"
            ]
          },
          "metadata": {},
          "execution_count": 52
        }
      ]
    },
    {
      "cell_type": "code",
      "source": [
        "rdd.map(lambda row: row[sc_h] / row[sc_w]).take(10)"
      ],
      "metadata": {
        "colab": {
          "base_uri": "https://localhost:8080/"
        },
        "id": "octsJrxv8ti4",
        "outputId": "482a90a4-fcce-4e2e-a7c3-d9a8a32509ed"
      },
      "execution_count": 53,
      "outputs": [
        {
          "output_type": "execute_result",
          "data": {
            "text/plain": [
              "[1.2857142857142858,\n",
              " 5.666666666666667,\n",
              " 5.5,\n",
              " 2.0,\n",
              " 4.0,\n",
              " 17.0,\n",
              " 1.625,\n",
              " 5.333333333333333,\n",
              " 17.0,\n",
              " 1.9]"
            ]
          },
          "metadata": {},
          "execution_count": 53
        }
      ]
    },
    {
      "cell_type": "code",
      "source": [
        "import pandas as pd\n",
        "tmp = rdd.map(lambda row: (row[sc_h], row[sc_w]))\\\n",
        "    .filter(lambda row: row[0] > 0)\\\n",
        "    .filter(lambda row: row[1] > 0)\\\n",
        "    .map(lambda row: (round(row[0] / row[1], 1), 1))\n",
        "\n",
        "print(tmp.count())\n",
        "pd.Series(tmp.countByKey()).sort_index().plot.bar(figsize=(15, 10))"
      ],
      "metadata": {
        "colab": {
          "base_uri": "https://localhost:8080/",
          "height": 698
        },
        "id": "6oBkJ-H481L6",
        "outputId": "79b3180f-2726-40e4-c09d-8cb62a5a5237"
      },
      "execution_count": 54,
      "outputs": [
        {
          "output_type": "stream",
          "name": "stdout",
          "text": [
            "2820\n"
          ]
        },
        {
          "output_type": "execute_result",
          "data": {
            "text/plain": [
              "<Axes: >"
            ]
          },
          "metadata": {},
          "execution_count": 54
        },
        {
          "output_type": "display_data",
          "data": {
            "text/plain": [
              "<Figure size 1500x1000 with 1 Axes>"
            ],
            "image/png": "[encoded data removed]"
          },
          "metadata": {}
        }
      ]
    },
    {
      "cell_type": "code",
      "source": [
        "# Задание 5\n",
        "#  Рассчитайте плотность пикселей (лучше ppi), выведите это распределение\n",
        "\n",
        "def add_ratio(width, height):\n",
        "    if height == 0:\n",
        "        height += 1e-10\n",
        "    return np.round(width/height, 2)\n",
        "\n",
        "def add_pixel_density(px_width, px_height, sc_h, sc_w):\n",
        "    return np.round(np.sqrt((px_height ** 2 + px_width ** 2) / np.sqrt((sc_h ** 2 + sc_w ** 2))))\n",
        "\n",
        "\n",
        "sc_h = train_header.index('sc_h')\n",
        "sc_w = train_header.index('sc_w')\n",
        "sc_h, sc_w\n",
        "px_height_ = train_header.index('px_height')\n",
        "px_width_ = train_header.index('px_width')\n",
        "\n",
        "\n",
        "rdd = rdd.map(lambda x: (*x, add_ratio(x[sc_w_], x[sc_h_]))) \\\n",
        "         .map(lambda x: (*x, add_pixel_density(x[px_width_], x[px_height_], x[sc_h_], x[sc_w_])))\n",
        "\n",
        "\n",
        "\n"
      ],
      "metadata": {
        "id": "XyfrghkK7P_Q"
      },
      "execution_count": 60,
      "outputs": []
    },
    {
      "cell_type": "markdown",
      "source": [
        "# JOIN\n",
        "Повторите вышеописанное задание с помощью одной из функций ниже (отдельно рассчитайте для train и test, затем объедините результат)\n",
        "\n",
        "Пример для двух RDDs: (rdd = {(1, 2), (3, 4), (3, 6)} other = {(3, 9)})\n",
        "\n",
        "Имя функции |\tPurpose |\tExample |\tResult\n",
        "------------- |\t------- |\t------- |\t------\n",
        "subtractByKey |Remove elements with a key present in the other RDD.| rdd.subtractByKey(other) | {(1, 2)}\n",
        "join | Perform an inner join between two RDDs. | rdd.join(other) | {(3, (4, 9)), (3, (6, 9))}\n",
        "rightOuterJoin | Perform a join between two RDDs where the key must be present in the first RDD. | rdd.rightOuterJoin(other) | {(3,(Some(4),9)), (3,(Some(6),9))}leftOuterJoin | Perform a join between two RDDs where the key must be present in the other RDD. | rdd.\n",
        "leftOuterJoin(other) | {(1,(2,None)), (3,(4,Some(9))), (3,(6,Some(9)))}\n",
        "cogroup | Group data from both RDDs sharing the same key. | rdd.cogroup(other) | {(1,([2],[])), (3,([4, 6],[9]))}"
      ],
      "metadata": {
        "id": "gh_RHXlW7XD3"
      }
    },
    {
      "cell_type": "code",
      "source": [
        "# Задание 6\n",
        "#  Рассчитайте для train и test, затем объедините результат\n",
        "\n",
        "\n",
        "beautiful_print(train, 3, train_header, line_break=8)\n",
        "get_size(train, train_header, 'train')\n",
        "print('___'*50, '\\n')\n",
        "beautiful_print(test, 3, test_header, line_break=8)\n",
        "get_size(test, test_header, 'test')"
      ],
      "metadata": {
        "colab": {
          "base_uri": "https://localhost:8080/"
        },
        "id": "Vj5xxdGn7WR_",
        "outputId": "aaa28d1a-59c9-4e59-e1bb-6c7126ffc447"
      },
      "execution_count": 61,
      "outputs": [
        {
          "output_type": "stream",
          "name": "stdout",
          "text": [
            "battery_power, blue, clock_speed, dual_sim, fc, four_g, int_memory, m_dep, \n",
            "mobile_wt, n_cores, pc, px_height, px_width, ram, sc_h, sc_w, \n",
            "talk_time, three_g, touch_screen, wifi, price_range, aspect_ratio, pixel_density, \n",
            "\n",
            "\t [842.0, 0.0, 2.2, 0.0, 1.0, 0.0, 7.0, 0.6, 188.0, 2.0, 2.0, 20.0, 756.0, 2549.0, 9.0, 7.0, 19.0, 0.0, 0.0, 1.0, 1.0]\n",
            "\t [1021.0, 1.0, 0.5, 1.0, 0.0, 1.0, 53.0, 0.7, 136.0, 3.0, 6.0, 905.0, 1988.0, 2631.0, 17.0, 3.0, 7.0, 1.0, 1.0, 0.0, 2.0]\n",
            "\t [563.0, 1.0, 0.5, 1.0, 2.0, 1.0, 41.0, 0.9, 145.0, 5.0, 6.0, 1263.0, 1716.0, 2603.0, 11.0, 2.0, 9.0, 1.0, 1.0, 0.0, 2.0]\n",
            "train size: 2000 x 1\n",
            "______________________________________________________________________________________________________________________________________________________ \n",
            "\n",
            "id, battery_power, blue, clock_speed, dual_sim, fc, four_g, int_memory, \n",
            "m_dep, mobile_wt, n_cores, pc, px_height, px_width, ram, sc_h, \n",
            "sc_w, talk_time, three_g, touch_screen, wifi, \n",
            "\n",
            "\t [1.0, 1043.0, 1.0, 1.8, 1.0, 14.0, 0.0, 5.0, 0.1, 193.0, 3.0, 16.0, 226.0, 1412.0, 3476.0, 12.0, 7.0, 2.0, 0.0, 1.0, 0.0]\n",
            "\t [2.0, 841.0, 1.0, 0.5, 1.0, 4.0, 1.0, 61.0, 0.8, 191.0, 5.0, 12.0, 746.0, 857.0, 3895.0, 6.0, 0.0, 7.0, 1.0, 0.0, 0.0]\n",
            "\t [3.0, 1807.0, 1.0, 2.8, 0.0, 1.0, 0.0, 27.0, 0.9, 186.0, 3.0, 4.0, 1270.0, 1366.0, 2396.0, 17.0, 10.0, 10.0, 0.0, 1.0, 1.0]\n",
            "test size: 1000 x 1\n"
          ]
        }
      ]
    },
    {
      "cell_type": "code",
      "source": [
        "sc_h_ = train_header.index('sc_h')\n",
        "sc_w_ = train_header.index('sc_w')\n",
        "px_height_ = train_header.index('px_height')\n",
        "px_width_ = train_header.index('px_width')\n",
        "\n",
        "train_with_new_cols = train.map(lambda x: (*x, add_ratio(x[sc_w_], x[sc_h_]))) \\\n",
        "    .map(lambda x: (*x, add_pixel_density(x[px_width_], x[px_height_], x[sc_h_], x[sc_w_])))\n",
        "\n",
        "test_with_new_cols = test.map(lambda x: (*x, add_ratio(x[sc_w_], x[sc_h_]))) \\\n",
        "    .map(lambda x: (*x, add_pixel_density(x[px_width_], x[px_height_], x[sc_h_], x[sc_w_])))\n",
        "\n",
        "new_header = train_header + ['aspect_ratio', 'pixel_density']\n",
        "\n",
        "rdd_with_new_cols = sc.union([train_with_new_cols, test_with_new_cols])\n",
        "\n",
        "beautiful_print(rdd_with_new_cols, 3, new_header, line_break=8)\n",
        "get_size(rdd_with_new_cols, new_header, 'rdd_with_new_cols')"
      ],
      "metadata": {
        "colab": {
          "base_uri": "https://localhost:8080/"
        },
        "id": "bP7tbP0u-IVL",
        "outputId": "38b81f52-19d6-41b6-af8a-68aacb024c66"
      },
      "execution_count": 62,
      "outputs": [
        {
          "output_type": "stream",
          "name": "stdout",
          "text": [
            "battery_power, blue, clock_speed, dual_sim, fc, four_g, int_memory, m_dep, \n",
            "mobile_wt, n_cores, pc, px_height, px_width, ram, sc_h, sc_w, \n",
            "talk_time, three_g, touch_screen, wifi, price_range, aspect_ratio, pixel_density, aspect_ratio, \n",
            "pixel_density, \n",
            "\n",
            "\t (842.0, 0.0, 2.2, 0.0, 1.0, 0.0, 7.0, 0.6, 188.0, 2.0, 2.0, 20.0, 756.0, 2549.0, 9.0, 7.0, 19.0, 0.0, 0.0, 1.0, 1.0, 0.78, 224.0)\n",
            "\t (1021.0, 1.0, 0.5, 1.0, 0.0, 1.0, 53.0, 0.7, 136.0, 3.0, 6.0, 905.0, 1988.0, 2631.0, 17.0, 3.0, 7.0, 1.0, 1.0, 0.0, 2.0, 0.18, 526.0)\n",
            "\t (563.0, 1.0, 0.5, 1.0, 2.0, 1.0, 41.0, 0.9, 145.0, 5.0, 6.0, 1263.0, 1716.0, 2603.0, 11.0, 2.0, 9.0, 1.0, 1.0, 0.0, 2.0, 0.18, 637.0)\n",
            "rdd_with_new_cols size: 3000 x 1\n"
          ]
        }
      ]
    }
  ]
}