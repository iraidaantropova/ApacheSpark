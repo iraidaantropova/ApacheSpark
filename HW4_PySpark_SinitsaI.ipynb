{
  "nbformat": 4,
  "nbformat_minor": 0,
  "metadata": {
    "colab": {
      "provenance": [],
      "authorship_tag": "ABX9TyNLoWSTJQ1pYjk6qCnk4bPo",
      "include_colab_link": true
    },
    "kernelspec": {
      "name": "python3",
      "display_name": "Python 3"
    },
    "language_info": {
      "name": "python"
    }
  },
  "cells": [
    {
      "cell_type": "markdown",
      "metadata": {
        "id": "view-in-github",
        "colab_type": "text"
      },
      "source": [
        "<a href=\"https://colab.research.google.com/github/iraidaantropova/ApacheSpark/blob/main/HW4_PySpark_SinitsaI.ipynb\" target=\"_parent\"><img src=\"https://colab.research.google.com/assets/colab-badge.svg\" alt=\"Open In Colab\"/></a>"
      ]
    },
    {
      "cell_type": "code",
      "source": [
        "!pip install pyspark"
      ],
      "metadata": {
        "colab": {
          "base_uri": "https://localhost:8080/"
        },
        "id": "yRAt_rStWCXQ",
        "outputId": "cb0ddf04-a6e1-4d15-cdc8-04a0208d9268"
      },
      "execution_count": 4,
      "outputs": [
        {
          "output_type": "stream",
          "name": "stdout",
          "text": [
            "Requirement already satisfied: pyspark in /usr/local/lib/python3.10/dist-packages (3.4.1)\n",
            "Requirement already satisfied: py4j==0.10.9.7 in /usr/local/lib/python3.10/dist-packages (from pyspark) (0.10.9.7)\n"
          ]
        }
      ]
    },
    {
      "cell_type": "code",
      "source": [
        "from pyspark.sql import SparkSession\n",
        "spark = SparkSession.builder\\\n",
        "    .master(\"local[2]\")\\\n",
        "    .appName(\"Lesson_2\")\\\n",
        "    .config(\"spark.executor.instances\",2)\\\n",
        "    .config(\"spark.executor.memory\",'2g')\\\n",
        "    .config(\"spark.executor.cores\",1)\\\n",
        "    .getOrCreate()\n",
        "sc = spark.sparkContext"
      ],
      "metadata": {
        "id": "2kf1Lfc-Vo7o"
      },
      "execution_count": 5,
      "outputs": []
    },
    {
      "cell_type": "markdown",
      "source": [
        "Задание 1\n",
        "Добавьте к таблице следующие поля:\n",
        "\n",
        "Средняя стомость 10 проданных домов до текущего в том же районе (4digit postcode)\n",
        "Средняя стомость 10 проданных домов после текущего в том же районе (4digit postcode)\n",
        "Стоимость последнего проданного дома до текущего"
      ],
      "metadata": {
        "id": "4Xmtz42jW7Qq"
      }
    },
    {
      "cell_type": "code",
      "source": [
        "from pyspark.sql import Window\n",
        "from pyspark.sql import functions as F\n",
        "from pyspark.sql.pandas.functions import pandas_udf, PandasUDFType\n",
        "from pyspark.sql.types import IntegerType\n",
        "\n",
        "import pandas as pd\n",
        "import requests"
      ],
      "metadata": {
        "id": "i8x_cYghXcb-"
      },
      "execution_count": 6,
      "outputs": []
    },
    {
      "cell_type": "code",
      "source": [
        "df = spark.read.csv('raw_sales.csv', header=True, inferSchema=True)\n",
        "df.printSchema()\n",
        "df.show(truncate=False)"
      ],
      "metadata": {
        "colab": {
          "base_uri": "https://localhost:8080/"
        },
        "id": "NKwOnFaCXeMF",
        "outputId": "4394b29b-a908-4264-b6d9-1b9ddedaa53a"
      },
      "execution_count": 7,
      "outputs": [
        {
          "output_type": "stream",
          "name": "stdout",
          "text": [
            "root\n",
            " |-- datesold: timestamp (nullable = true)\n",
            " |-- postcode: integer (nullable = true)\n",
            " |-- price: integer (nullable = true)\n",
            " |-- propertyType: string (nullable = true)\n",
            " |-- bedrooms: integer (nullable = true)\n",
            "\n",
            "+-------------------+--------+-------+------------+--------+\n",
            "|datesold           |postcode|price  |propertyType|bedrooms|\n",
            "+-------------------+--------+-------+------------+--------+\n",
            "|2007-02-07 00:00:00|2607    |525000 |house       |4       |\n",
            "|2007-02-27 00:00:00|2906    |290000 |house       |3       |\n",
            "|2007-03-07 00:00:00|2905    |328000 |house       |3       |\n",
            "|2007-03-09 00:00:00|2905    |380000 |house       |4       |\n",
            "|2007-03-21 00:00:00|2906    |310000 |house       |3       |\n",
            "|2007-04-04 00:00:00|2905    |465000 |house       |4       |\n",
            "|2007-04-24 00:00:00|2607    |399000 |house       |3       |\n",
            "|2007-04-30 00:00:00|2606    |1530000|house       |4       |\n",
            "|2007-05-24 00:00:00|2902    |359000 |house       |3       |\n",
            "|2007-05-25 00:00:00|2906    |320000 |house       |3       |\n",
            "|2007-06-26 00:00:00|2902    |385000 |house       |3       |\n",
            "|2007-06-27 00:00:00|2906    |305000 |house       |3       |\n",
            "|2007-06-27 00:00:00|2612    |850000 |house       |4       |\n",
            "|2007-06-28 00:00:00|2904    |765000 |house       |4       |\n",
            "|2007-06-30 00:00:00|2615    |517000 |house       |4       |\n",
            "|2007-07-02 00:00:00|2914    |800000 |house       |5       |\n",
            "|2007-07-03 00:00:00|2906    |336000 |house       |3       |\n",
            "|2007-07-06 00:00:00|2615    |535000 |house       |5       |\n",
            "|2007-07-07 00:00:00|2602    |900000 |house       |4       |\n",
            "|2007-07-08 00:00:00|2600    |327000 |house       |1       |\n",
            "+-------------------+--------+-------+------------+--------+\n",
            "only showing top 20 rows\n",
            "\n"
          ]
        }
      ]
    },
    {
      "cell_type": "code",
      "source": [
        "from pyspark.sql.functions import col, asc,desc\n",
        "\n",
        "#провожу группировку данных по postcode, сортирую по дате продажи\n",
        "windSpec_before = Window()\\\n",
        "    .partitionBy('postcode')\\\n",
        "    .orderBy('datesold')\n",
        "\n",
        "#получаю среднюю стоимость домов до текущей продажи\n",
        "# среднее найдено с помощью avg()\n",
        "df = df.withColumn('average_price_before', F.avg('price').over(windSpec_before))"
      ],
      "metadata": {
        "id": "SK9stlCsYssA"
      },
      "execution_count": 11,
      "outputs": []
    },
    {
      "cell_type": "code",
      "source": [
        "windSpec_after = Window()\\\n",
        "    .partitionBy('postcode')\\\n",
        "    .orderBy(col('datesold').desc())\n",
        "\n",
        "df = df.withColumn('average_price_after', F.avg('price').over(windSpec_after))"
      ],
      "metadata": {
        "id": "BOjaEGFmYs6D"
      },
      "execution_count": 12,
      "outputs": []
    },
    {
      "cell_type": "code",
      "source": [
        "df = df.withColumn('previous_sold_price', F.lag('price', 1).over(windSpec_before))"
      ],
      "metadata": {
        "id": "DhmEtOteaFuz"
      },
      "execution_count": 13,
      "outputs": []
    },
    {
      "cell_type": "code",
      "source": [
        "df.show(10)"
      ],
      "metadata": {
        "colab": {
          "base_uri": "https://localhost:8080/"
        },
        "id": "YbDFBPdJaHmb",
        "outputId": "f6ed07f4-aa8f-4108-afab-1b280382b477"
      },
      "execution_count": 14,
      "outputs": [
        {
          "output_type": "stream",
          "name": "stdout",
          "text": [
            "+-------------------+--------+-------+------------+--------+----------------------+--------------------+-------------------+-------------------+\n",
            "|           datesold|postcode|  price|propertyType|bedrooms|last_price_before_sale|average_price_before|average_price_after|previous_sold_price|\n",
            "+-------------------+--------+-------+------------+--------+----------------------+--------------------+-------------------+-------------------+\n",
            "|2007-07-08 00:00:00|    2600| 327000|       house|       1|                  null|            327000.0| 1203842.0951327435|               null|\n",
            "|2007-08-16 00:00:00|    2600| 790000|       house|       4|                327000|            558500.0|  1205786.312638581|             327000|\n",
            "|2007-12-05 00:00:00|    2600| 825000|       house|       3|                790000|   647333.3333333334| 1206710.2822222223|             790000|\n",
            "|2008-04-24 00:00:00|    2600| 292500|       house|       1|                315000|            558625.0|  1207560.416481069|             825000|\n",
            "|2008-06-19 00:00:00|    2600| 765000|       house|       5|                329000|            599900.0| 1209602.9620535714|             292500|\n",
            "|2008-07-29 00:00:00|    2600| 927000|       house|       4|                765000|   654416.6666666666| 1210597.5995525727|             765000|\n",
            "|2008-09-02 00:00:00|    2600|1380000|       house|       5|                927000|   758071.4285714285| 1211233.4686098655|             927000|\n",
            "|2008-09-08 00:00:00|    2600| 740000|       house|       3|               1380000|            755812.5|  1210854.217977528|            1380000|\n",
            "|2008-09-17 00:00:00|    2600| 720000|       house|       3|                740000|   751833.3333333334| 1211914.7004504504|             740000|\n",
            "|2008-09-22 00:00:00|    2600| 690000|       house|       4|                720000|            745650.0| 1213025.1173814898|             720000|\n",
            "+-------------------+--------+-------+------------+--------+----------------------+--------------------+-------------------+-------------------+\n",
            "only showing top 10 rows\n",
            "\n"
          ]
        }
      ]
    },
    {
      "cell_type": "markdown",
      "source": [
        "В итоге у вас таблица с колонками (или нечто похожее):\n",
        "\n",
        "price\n",
        "Среднегодовая цена\n",
        "Средняя стомость 10 проданных домов до текущего в том же районе (4digit postcode) (1 балл)\n",
        "Средняя стомость 10 проданных домов после текущего в том же районе (4digit postcode) (1 балл)\n",
        "Стоимость последнего проданного дома до текущего ((1 балл)\n",
        "и др.\n",
        "Посчитайте кол-во уникальных значений в каждой строчке (unique(row)) (ипользуйте udf). Попробуйте сделать то же самое используя pandas udf."
      ],
      "metadata": {
        "id": "ohGaZ6jgaT-B"
      }
    },
    {
      "cell_type": "code",
      "source": [
        "@F.udf(returnType=IntegerType())\n",
        "def count_unique_udf(row):\n",
        "    return len(set(row))\n",
        "(\n",
        "    df.filter(F.col('average_price_before').isNotNull())\n",
        "    .withColumn('unique_values', count_unique_udf(F.array(*df))).show(10)\n",
        "\n",
        ")"
      ],
      "metadata": {
        "colab": {
          "base_uri": "https://localhost:8080/"
        },
        "id": "rW7mEZFLanB7",
        "outputId": "447830fa-28cd-4b46-fb2d-6c5c022ae598"
      },
      "execution_count": 20,
      "outputs": [
        {
          "output_type": "stream",
          "name": "stdout",
          "text": [
            "+-------------------+--------+-------+------------+--------+----------------------+--------------------+-------------------+-------------------+-------------+\n",
            "|           datesold|postcode|  price|propertyType|bedrooms|last_price_before_sale|average_price_before|average_price_after|previous_sold_price|unique_values|\n",
            "+-------------------+--------+-------+------------+--------+----------------------+--------------------+-------------------+-------------------+-------------+\n",
            "|2007-07-08 00:00:00|    2600| 327000|       house|       1|                  null|            327000.0| 1203842.0951327435|               null|            8|\n",
            "|2007-08-16 00:00:00|    2600| 790000|       house|       4|                327000|            558500.0|  1205786.312638581|             327000|            8|\n",
            "|2007-12-05 00:00:00|    2600| 825000|       house|       3|                790000|   647333.3333333334| 1206710.2822222223|             790000|            8|\n",
            "|2008-04-24 00:00:00|    2600| 292500|       house|       1|                315000|            558625.0|  1207560.416481069|             825000|            9|\n",
            "|2008-06-19 00:00:00|    2600| 765000|       house|       5|                329000|            599900.0| 1209602.9620535714|             292500|            9|\n",
            "|2008-07-29 00:00:00|    2600| 927000|       house|       4|                765000|   654416.6666666666| 1210597.5995525727|             765000|            8|\n",
            "|2008-09-02 00:00:00|    2600|1380000|       house|       5|                927000|   758071.4285714285| 1211233.4686098655|             927000|            8|\n",
            "|2008-09-08 00:00:00|    2600| 740000|       house|       3|               1380000|            755812.5|  1210854.217977528|            1380000|            8|\n",
            "|2008-09-17 00:00:00|    2600| 720000|       house|       3|                740000|   751833.3333333334| 1211914.7004504504|             740000|            8|\n",
            "|2008-09-22 00:00:00|    2600| 690000|       house|       4|                720000|            745650.0| 1213025.1173814898|             720000|            8|\n",
            "+-------------------+--------+-------+------------+--------+----------------------+--------------------+-------------------+-------------------+-------------+\n",
            "only showing top 10 rows\n",
            "\n"
          ]
        }
      ]
    },
    {
      "cell_type": "code",
      "source": [
        "@pandas_udf(IntegerType(), PandasUDFType.SCALAR)\n",
        "def count_unique_pandas_udf(series) -> int:\n",
        "    return series.apply(lambda row: len(set(row)))\n",
        "(\n",
        "    df.filter(F.col('average_price_before').isNotNull())\n",
        "    .withColumn('unique_values', count_unique_pandas_udf(F.array(*df))).show(10)\n",
        ")"
      ],
      "metadata": {
        "colab": {
          "base_uri": "https://localhost:8080/"
        },
        "id": "t1UrVAMWa90Y",
        "outputId": "5cc63d27-c34e-4ccf-b5d1-857ba38f464e"
      },
      "execution_count": 21,
      "outputs": [
        {
          "output_type": "stream",
          "name": "stderr",
          "text": [
            "/usr/local/lib/python3.10/dist-packages/pyspark/sql/pandas/functions.py:399: UserWarning: In Python 3.6+ and Spark 3.0+, it is preferred to specify type hints for pandas UDF instead of specifying pandas UDF type which will be deprecated in the future releases. See SPARK-28264 for more details.\n",
            "  warnings.warn(\n"
          ]
        },
        {
          "output_type": "stream",
          "name": "stdout",
          "text": [
            "+-------------------+--------+-------+------------+--------+----------------------+--------------------+-------------------+-------------------+-------------+\n",
            "|           datesold|postcode|  price|propertyType|bedrooms|last_price_before_sale|average_price_before|average_price_after|previous_sold_price|unique_values|\n",
            "+-------------------+--------+-------+------------+--------+----------------------+--------------------+-------------------+-------------------+-------------+\n",
            "|2007-07-08 00:00:00|    2600| 327000|       house|       1|                  null|            327000.0| 1203842.0951327435|               null|            8|\n",
            "|2007-08-16 00:00:00|    2600| 790000|       house|       4|                327000|            558500.0|  1205786.312638581|             327000|            8|\n",
            "|2007-12-05 00:00:00|    2600| 825000|       house|       3|                790000|   647333.3333333334| 1206710.2822222223|             790000|            8|\n",
            "|2008-04-24 00:00:00|    2600| 292500|       house|       1|                315000|            558625.0|  1207560.416481069|             825000|            9|\n",
            "|2008-06-19 00:00:00|    2600| 765000|       house|       5|                329000|            599900.0| 1209602.9620535714|             292500|            9|\n",
            "|2008-07-29 00:00:00|    2600| 927000|       house|       4|                765000|   654416.6666666666| 1210597.5995525727|             765000|            8|\n",
            "|2008-09-02 00:00:00|    2600|1380000|       house|       5|                927000|   758071.4285714285| 1211233.4686098655|             927000|            8|\n",
            "|2008-09-08 00:00:00|    2600| 740000|       house|       3|               1380000|            755812.5|  1210854.217977528|            1380000|            8|\n",
            "|2008-09-17 00:00:00|    2600| 720000|       house|       3|                740000|   751833.3333333334| 1211914.7004504504|             740000|            8|\n",
            "|2008-09-22 00:00:00|    2600| 690000|       house|       4|                720000|            745650.0| 1213025.1173814898|             720000|            8|\n",
            "+-------------------+--------+-------+------------+--------+----------------------+--------------------+-------------------+-------------------+-------------+\n",
            "only showing top 10 rows\n",
            "\n"
          ]
        }
      ]
    },
    {
      "cell_type": "markdown",
      "source": [
        "Задание 3\n",
        "SQL like case when или if elif else\n",
        "\n",
        "Создайте колонку, в которой в которой будет отображаться \"+\", \"-\" или \"=\", если \"Средняя стомость 10 проданных домов до текущего в том же районе\" больше, меньше или равно \"Средняя стомость 10 проданных домов после текущего в том же районе (4digit postcode)\", соотвественно.\n",
        "\n",
        "Если одно из полей Null, запишите в эту колонку \"Нет данных\""
      ],
      "metadata": {
        "id": "uJrR9T57bKrL"
      }
    },
    {
      "cell_type": "code",
      "source": [
        "# использую функцию when(если TRUE, тогда)\n",
        "df = df.withColumn(\n",
        "    'sign',\n",
        "    F.when(\n",
        "        F.col('average_price_before').isNull() |\n",
        "        F.col('average_price_after').isNull(),\n",
        "        'Нет данных'\n",
        "    ).when(\n",
        "        F.col('average_price_before') > F.col('average_price_after'),\n",
        "        '-'\n",
        "    ).when(\n",
        "        F.col('average_price_before') < F.col('average_price_after'),\n",
        "        '+'\n",
        "    ).otherwise(\n",
        "        '='\n",
        "    )\n",
        ")\n",
        "\n",
        "df.show()"
      ],
      "metadata": {
        "colab": {
          "base_uri": "https://localhost:8080/"
        },
        "id": "SrPg0FKnbncw",
        "outputId": "e032a24c-4bc2-479c-e88e-95023aee9bb2"
      },
      "execution_count": 22,
      "outputs": [
        {
          "output_type": "stream",
          "name": "stdout",
          "text": [
            "+-------------------+--------+-------+------------+--------+----------------------+--------------------+-------------------+-------------------+----+\n",
            "|           datesold|postcode|  price|propertyType|bedrooms|last_price_before_sale|average_price_before|average_price_after|previous_sold_price|sign|\n",
            "+-------------------+--------+-------+------------+--------+----------------------+--------------------+-------------------+-------------------+----+\n",
            "|2007-07-08 00:00:00|    2600| 327000|       house|       1|                  null|            327000.0| 1203842.0951327435|               null|   +|\n",
            "|2007-08-16 00:00:00|    2600| 790000|       house|       4|                327000|            558500.0|  1205786.312638581|             327000|   +|\n",
            "|2007-12-05 00:00:00|    2600| 825000|       house|       3|                790000|   647333.3333333334| 1206710.2822222223|             790000|   +|\n",
            "|2008-04-24 00:00:00|    2600| 292500|       house|       1|                315000|            558625.0|  1207560.416481069|             825000|   +|\n",
            "|2008-06-19 00:00:00|    2600| 765000|       house|       5|                329000|            599900.0| 1209602.9620535714|             292500|   +|\n",
            "|2008-07-29 00:00:00|    2600| 927000|       house|       4|                765000|   654416.6666666666| 1210597.5995525727|             765000|   +|\n",
            "|2008-09-02 00:00:00|    2600|1380000|       house|       5|                927000|   758071.4285714285| 1211233.4686098655|             927000|   +|\n",
            "|2008-09-08 00:00:00|    2600| 740000|       house|       3|               1380000|            755812.5|  1210854.217977528|            1380000|   +|\n",
            "|2008-09-17 00:00:00|    2600| 720000|       house|       3|                740000|   751833.3333333334| 1211914.7004504504|             740000|   +|\n",
            "|2008-09-22 00:00:00|    2600| 690000|       house|       4|                720000|            745650.0| 1213025.1173814898|             720000|   +|\n",
            "|2008-11-18 00:00:00|    2600| 635000|       house|       3|                690000|   753458.3333333334|  1214208.432126697|             690000|   +|\n",
            "|2008-11-18 00:00:00|    2600| 950000|       house|       3|                635000|   753458.3333333334|  1214208.432126697|             635000|   +|\n",
            "|2008-11-21 00:00:00|    2600| 730000|       house|       3|                950000|   751653.8461538461| 1216125.2886363636|             950000|   +|\n",
            "|2008-12-22 00:00:00|    2600| 855000|       house|       3|                730000|   759035.7142857143| 1217232.6355353075|             730000|   +|\n",
            "|2008-12-24 00:00:00|    2600|1057500|       house|       4|                855000|   778933.3333333334| 1218059.6506849315|             855000|   +|\n",
            "|2009-01-20 00:00:00|    2600|1150000|       house|       4|                475000|            802125.0| 1218427.0640732266|            1057500|   +|\n",
            "|2009-01-22 00:00:00|    2600| 575000|       house|       3|               1150000|   788764.7058823529| 1218584.0068807339|            1150000|   +|\n",
            "|2009-02-13 00:00:00|    2600| 880000|       house|       4|                578000|   793833.3333333334| 1220063.5103448275|             575000|   +|\n",
            "|2009-03-17 00:00:00|    2600|1015000|       house|       4|                410000|   805473.6842105263| 1220847.0668202764|             880000|   +|\n",
            "|2009-03-28 00:00:00|    2600| 722000|       house|       4|               1015000|            801300.0| 1221322.4642032334|            1015000|   +|\n",
            "+-------------------+--------+-------+------------+--------+----------------------+--------------------+-------------------+-------------------+----+\n",
            "only showing top 20 rows\n",
            "\n"
          ]
        }
      ]
    }
  ]
}