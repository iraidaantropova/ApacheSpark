{
  "nbformat": 4,
  "nbformat_minor": 0,
  "metadata": {
    "colab": {
      "provenance": [],
      "authorship_tag": "ABX9TyNVXN6r0qTLwvlqhcbotZHi",
      "include_colab_link": true
    },
    "kernelspec": {
      "name": "python3",
      "display_name": "Python 3"
    },
    "language_info": {
      "name": "python"
    }
  },
  "cells": [
    {
      "cell_type": "markdown",
      "metadata": {
        "id": "view-in-github",
        "colab_type": "text"
      },
      "source": [
        "<a href=\"https://colab.research.google.com/github/iraidaantropova/ApacheSpark/blob/main/HW8_PySpark_SinitsaI.ipynb\" target=\"_parent\"><img src=\"https://colab.research.google.com/assets/colab-badge.svg\" alt=\"Open In Colab\"/></a>"
      ]
    },
    {
      "cell_type": "markdown",
      "source": [
        "Урок 8. Машинное обучение на pySpark на примере линейной регрессии\n",
        "Курсовая:\n",
        "- Написать TfIdf на спарке (потом сделать это же со SparkMl)\n",
        "- Обучить свою линейную регрессию\n",
        "\n",
        "HW: https://colab.research.google.com/drive/1QltsS5jJsqfMtHJCyC-PXNM5eenuZK_t?usp=sharing\n",
        "\n",
        "Данные кредитного скоринга в прикрепленном архиве (1 урок)\n",
        "Данные титаника в csv файлах (1 урок)"
      ],
      "metadata": {
        "id": "hqJzYC18n_fJ"
      }
    },
    {
      "cell_type": "code",
      "source": [
        "!pip install pyspark"
      ],
      "metadata": {
        "colab": {
          "base_uri": "https://localhost:8080/"
        },
        "id": "IrpZwJ2YpIBK",
        "outputId": "62f25d76-17d8-4b63-bdbc-97cca62caa19"
      },
      "execution_count": 1,
      "outputs": [
        {
          "output_type": "stream",
          "name": "stdout",
          "text": [
            "Collecting pyspark\n",
            "  Downloading pyspark-3.4.1.tar.gz (310.8 MB)\n",
            "\u001b[2K     \u001b[90m━━━━━━━━━━━━━━━━━━━━━━━━━━━━━━━━━━━━━━━\u001b[0m \u001b[32m310.8/310.8 MB\u001b[0m \u001b[31m4.5 MB/s\u001b[0m eta \u001b[36m0:00:00\u001b[0m\n",
            "\u001b[?25h  Preparing metadata (setup.py) ... \u001b[?25l\u001b[?25hdone\n",
            "Requirement already satisfied: py4j==0.10.9.7 in /usr/local/lib/python3.10/dist-packages (from pyspark) (0.10.9.7)\n",
            "Building wheels for collected packages: pyspark\n",
            "  Building wheel for pyspark (setup.py) ... \u001b[?25l\u001b[?25hdone\n",
            "  Created wheel for pyspark: filename=pyspark-3.4.1-py2.py3-none-any.whl size=311285397 sha256=3939227f56b0377d720e502a2a78976affe2cafb34e122ec11c7e4d0a7105a9d\n",
            "  Stored in directory: /root/.cache/pip/wheels/0d/77/a3/ff2f74cc9ab41f8f594dabf0579c2a7c6de920d584206e0834\n",
            "Successfully built pyspark\n",
            "Installing collected packages: pyspark\n",
            "Successfully installed pyspark-3.4.1\n"
          ]
        }
      ]
    },
    {
      "cell_type": "code",
      "source": [
        "from pyspark.sql import SparkSession\n",
        "spark = SparkSession.builder\\\n",
        "    .master(\"local[2]\")\\\n",
        "    .appName(\"housing_price_model\")\\\n",
        "    .config(\"spark.executor.instances\",2)\\\n",
        "    .config(\"spark.executor.memory\",'2g')\\\n",
        "    .config(\"spark.executor.cores\",1)\\\n",
        "    .getOrCreate()\n",
        "sc = spark.sparkContext"
      ],
      "metadata": {
        "id": "Ppfwp9SApK4e"
      },
      "execution_count": 4,
      "outputs": []
    },
    {
      "cell_type": "code",
      "source": [
        "spark"
      ],
      "metadata": {
        "colab": {
          "base_uri": "https://localhost:8080/",
          "height": 219
        },
        "id": "km0trAiApUBN",
        "outputId": "71576aa4-0608-47b0-bd87-8ce83ee73539"
      },
      "execution_count": 5,
      "outputs": [
        {
          "output_type": "execute_result",
          "data": {
            "text/plain": [
              "<pyspark.sql.session.SparkSession at 0x7b1d3bf3b790>"
            ],
            "text/html": [
              "\n",
              "            <div>\n",
              "                <p><b>SparkSession - in-memory</b></p>\n",
              "                \n",
              "        <div>\n",
              "            <p><b>SparkContext</b></p>\n",
              "\n",
              "            <p><a href=\"http://6a55a2545d18:4040\">Spark UI</a></p>\n",
              "\n",
              "            <dl>\n",
              "              <dt>Version</dt>\n",
              "                <dd><code>v3.4.1</code></dd>\n",
              "              <dt>Master</dt>\n",
              "                <dd><code>local[2]</code></dd>\n",
              "              <dt>AppName</dt>\n",
              "                <dd><code>Lesson_2</code></dd>\n",
              "            </dl>\n",
              "        </div>\n",
              "        \n",
              "            </div>\n",
              "        "
            ]
          },
          "metadata": {},
          "execution_count": 5
        }
      ]
    },
    {
      "cell_type": "code",
      "source": [
        "#считывание данных\n",
        "df=spark.read.csv('cruise_ship_info.csv',inferSchema=True,header=True)\n",
        "df.show(10)\n"
      ],
      "metadata": {
        "colab": {
          "base_uri": "https://localhost:8080/"
        },
        "id": "87GVqiiwpBwE",
        "outputId": "4deb4768-3740-4e81-b949-731ebd83e619"
      },
      "execution_count": 6,
      "outputs": [
        {
          "output_type": "stream",
          "name": "stdout",
          "text": [
            "+-----------+-----------+---+------------------+----------+------+------+-----------------+----+\n",
            "|  Ship_name|Cruise_line|Age|           Tonnage|passengers|length|cabins|passenger_density|crew|\n",
            "+-----------+-----------+---+------------------+----------+------+------+-----------------+----+\n",
            "|    Journey|    Azamara|  6|30.276999999999997|      6.94|  5.94|  3.55|            42.64|3.55|\n",
            "|      Quest|    Azamara|  6|30.276999999999997|      6.94|  5.94|  3.55|            42.64|3.55|\n",
            "|Celebration|   Carnival| 26|            47.262|     14.86|  7.22|  7.43|             31.8| 6.7|\n",
            "|   Conquest|   Carnival| 11|             110.0|     29.74|  9.53| 14.88|            36.99|19.1|\n",
            "|    Destiny|   Carnival| 17|           101.353|     26.42|  8.92| 13.21|            38.36|10.0|\n",
            "|    Ecstasy|   Carnival| 22|            70.367|     20.52|  8.55|  10.2|            34.29| 9.2|\n",
            "|    Elation|   Carnival| 15|            70.367|     20.52|  8.55|  10.2|            34.29| 9.2|\n",
            "|    Fantasy|   Carnival| 23|            70.367|     20.56|  8.55| 10.22|            34.23| 9.2|\n",
            "|Fascination|   Carnival| 19|            70.367|     20.52|  8.55|  10.2|            34.29| 9.2|\n",
            "|    Freedom|   Carnival|  6|110.23899999999999|      37.0|  9.51| 14.87|            29.79|11.5|\n",
            "+-----------+-----------+---+------------------+----------+------+------+-----------------+----+\n",
            "only showing top 10 rows\n",
            "\n"
          ]
        }
      ]
    },
    {
      "cell_type": "code",
      "source": [
        "df.printSchema()"
      ],
      "metadata": {
        "colab": {
          "base_uri": "https://localhost:8080/"
        },
        "id": "MlZhuGnyqM7h",
        "outputId": "a11ad60e-2f9a-442e-af82-c8babcf47be5"
      },
      "execution_count": 7,
      "outputs": [
        {
          "output_type": "stream",
          "name": "stdout",
          "text": [
            "root\n",
            " |-- Ship_name: string (nullable = true)\n",
            " |-- Cruise_line: string (nullable = true)\n",
            " |-- Age: integer (nullable = true)\n",
            " |-- Tonnage: double (nullable = true)\n",
            " |-- passengers: double (nullable = true)\n",
            " |-- length: double (nullable = true)\n",
            " |-- cabins: double (nullable = true)\n",
            " |-- passenger_density: double (nullable = true)\n",
            " |-- crew: double (nullable = true)\n",
            "\n"
          ]
        }
      ]
    },
    {
      "cell_type": "code",
      "source": [
        "df.columns"
      ],
      "metadata": {
        "colab": {
          "base_uri": "https://localhost:8080/"
        },
        "id": "tvQelRXoqWFm",
        "outputId": "cbc7067f-8a35-4906-fcbd-33ccd707db17"
      },
      "execution_count": 8,
      "outputs": [
        {
          "output_type": "execute_result",
          "data": {
            "text/plain": [
              "['Ship_name',\n",
              " 'Cruise_line',\n",
              " 'Age',\n",
              " 'Tonnage',\n",
              " 'passengers',\n",
              " 'length',\n",
              " 'cabins',\n",
              " 'passenger_density',\n",
              " 'crew']"
            ]
          },
          "metadata": {},
          "execution_count": 8
        }
      ]
    },
    {
      "cell_type": "code",
      "source": [
        "#для дальнейшей работы данные дб в числовом формате, в Cruise_line используется строковый,\n",
        "#с помощью StringIndexer тип данных будет преобразован\n",
        "from pyspark.ml.feature import StringIndexer\n",
        "indexer=StringIndexer(inputCol='Cruise_line',outputCol='cruise_cat')\n",
        "indexed=indexer.fit(df).transform(df)\n",
        "\n",
        "for item in indexed.head(5):\n",
        "    print(item)\n",
        "    print('\\n')"
      ],
      "metadata": {
        "colab": {
          "base_uri": "https://localhost:8080/"
        },
        "id": "vxcmF7GRqhOC",
        "outputId": "eafa5a15-a395-4ce6-f124-83a50361d03b"
      },
      "execution_count": 9,
      "outputs": [
        {
          "output_type": "stream",
          "name": "stdout",
          "text": [
            "Row(Ship_name='Journey', Cruise_line='Azamara', Age=6, Tonnage=30.276999999999997, passengers=6.94, length=5.94, cabins=3.55, passenger_density=42.64, crew=3.55, cruise_cat=16.0)\n",
            "\n",
            "\n",
            "Row(Ship_name='Quest', Cruise_line='Azamara', Age=6, Tonnage=30.276999999999997, passengers=6.94, length=5.94, cabins=3.55, passenger_density=42.64, crew=3.55, cruise_cat=16.0)\n",
            "\n",
            "\n",
            "Row(Ship_name='Celebration', Cruise_line='Carnival', Age=26, Tonnage=47.262, passengers=14.86, length=7.22, cabins=7.43, passenger_density=31.8, crew=6.7, cruise_cat=1.0)\n",
            "\n",
            "\n",
            "Row(Ship_name='Conquest', Cruise_line='Carnival', Age=11, Tonnage=110.0, passengers=29.74, length=9.53, cabins=14.88, passenger_density=36.99, crew=19.1, cruise_cat=1.0)\n",
            "\n",
            "\n",
            "Row(Ship_name='Destiny', Cruise_line='Carnival', Age=17, Tonnage=101.353, passengers=26.42, length=8.92, cabins=13.21, passenger_density=38.36, crew=10.0, cruise_cat=1.0)\n",
            "\n",
            "\n"
          ]
        }
      ]
    },
    {
      "cell_type": "code",
      "source": [
        "from pyspark.ml.linalg import Vectors\n",
        "from pyspark.ml.feature import VectorAssembler\n",
        "#создание векторов из объектов, тк данные дб в векторной форме\n",
        "\n",
        "assembler=VectorAssembler(inputCols=['Age',\n",
        " 'Tonnage',\n",
        " 'passengers',\n",
        " 'length',\n",
        " 'cabins',\n",
        " 'passenger_density',\n",
        " 'cruise_cat'],outputCol='features')\n",
        "output=assembler.transform(indexed)\n",
        "output.select('features','crew').show(5)\n"
      ],
      "metadata": {
        "colab": {
          "base_uri": "https://localhost:8080/"
        },
        "id": "jlTkNtL-rTpY",
        "outputId": "b0b13795-c5e0-478e-8cf3-8c64931e710b"
      },
      "execution_count": 10,
      "outputs": [
        {
          "output_type": "stream",
          "name": "stdout",
          "text": [
            "+--------------------+----+\n",
            "|            features|crew|\n",
            "+--------------------+----+\n",
            "|[6.0,30.276999999...|3.55|\n",
            "|[6.0,30.276999999...|3.55|\n",
            "|[26.0,47.262,14.8...| 6.7|\n",
            "|[11.0,110.0,29.74...|19.1|\n",
            "|[17.0,101.353,26....|10.0|\n",
            "+--------------------+----+\n",
            "only showing top 5 rows\n",
            "\n"
          ]
        }
      ]
    },
    {
      "cell_type": "code",
      "source": [
        "final_data=output.select('features','crew')\n",
        "#разделение данных на  train и test\n",
        "train_data,test_data=final_data.randomSplit([0.7,0.3])\n",
        "train_data.describe().show()"
      ],
      "metadata": {
        "colab": {
          "base_uri": "https://localhost:8080/"
        },
        "id": "uzPOTy1RrmGW",
        "outputId": "3d4f546a-9408-40f5-def3-23f0cb4df9b9"
      },
      "execution_count": 11,
      "outputs": [
        {
          "output_type": "stream",
          "name": "stdout",
          "text": [
            "+-------+------------------+\n",
            "|summary|              crew|\n",
            "+-------+------------------+\n",
            "|  count|               109|\n",
            "|   mean| 7.686238532110103|\n",
            "| stddev|3.4995684360892136|\n",
            "|    min|              0.59|\n",
            "|    max|              19.1|\n",
            "+-------+------------------+\n",
            "\n"
          ]
        }
      ]
    },
    {
      "cell_type": "code",
      "source": [
        "test_data.describe().show()"
      ],
      "metadata": {
        "colab": {
          "base_uri": "https://localhost:8080/"
        },
        "id": "TdQ9Fmsur0cR",
        "outputId": "8454a918-8a2c-4580-941f-b77d9ea89062"
      },
      "execution_count": 12,
      "outputs": [
        {
          "output_type": "stream",
          "name": "stdout",
          "text": [
            "+-------+------------------+\n",
            "|summary|              crew|\n",
            "+-------+------------------+\n",
            "|  count|                49|\n",
            "|   mean| 8.034285714285714|\n",
            "| stddev|3.5364618618048183|\n",
            "|    min|               2.1|\n",
            "|    max|              21.0|\n",
            "+-------+------------------+\n",
            "\n"
          ]
        }
      ]
    },
    {
      "cell_type": "code",
      "source": [
        "from pyspark.ml.regression import LinearRegression\n",
        "#создание объекта класса линейной регрессии\n",
        "ship_lr=LinearRegression(featuresCol='features',labelCol='crew')\n",
        "\n",
        "trained_ship_model=ship_lr.fit(train_data)\n",
        "\n",
        "ship_results=trained_ship_model.evaluate(train_data)\n",
        "\n",
        "print('Rsquared Error :',ship_results.r2)\n"
      ],
      "metadata": {
        "colab": {
          "base_uri": "https://localhost:8080/"
        },
        "id": "Ud8kfcr1r476",
        "outputId": "344dbacf-ed77-4e49-a1e2-186093c43341"
      },
      "execution_count": 13,
      "outputs": [
        {
          "output_type": "stream",
          "name": "stdout",
          "text": [
            "Rsquared Error : 0.9208070419396531\n"
          ]
        }
      ]
    },
    {
      "cell_type": "markdown",
      "source": [
        "точность модели составляет 92%"
      ],
      "metadata": {
        "id": "c5EeehxytHcj"
      }
    },
    {
      "cell_type": "code",
      "source": [
        "unlabeled_data=test_data.select('features')\n",
        "unlabeled_data.show(5)"
      ],
      "metadata": {
        "colab": {
          "base_uri": "https://localhost:8080/"
        },
        "id": "vg73-yohtQtc",
        "outputId": "217a1536-dc5c-4532-bf7d-84cf515289d9"
      },
      "execution_count": 14,
      "outputs": [
        {
          "output_type": "stream",
          "name": "stdout",
          "text": [
            "+--------------------+\n",
            "|            features|\n",
            "+--------------------+\n",
            "|[4.0,220.0,54.0,1...|\n",
            "|[5.0,115.0,35.74,...|\n",
            "|[6.0,30.276999999...|\n",
            "|[6.0,90.0,20.0,9....|\n",
            "|[6.0,110.23899999...|\n",
            "+--------------------+\n",
            "only showing top 5 rows\n",
            "\n"
          ]
        }
      ]
    },
    {
      "cell_type": "code",
      "source": [
        "predictions=trained_ship_model.transform(unlabeled_data)\n",
        "predictions.show()\n"
      ],
      "metadata": {
        "colab": {
          "base_uri": "https://localhost:8080/"
        },
        "id": "vSw5AUVWtWLt",
        "outputId": "efb56664-fc30-46fd-b2de-5dcfc8a03cd9"
      },
      "execution_count": 15,
      "outputs": [
        {
          "output_type": "stream",
          "name": "stdout",
          "text": [
            "+--------------------+------------------+\n",
            "|            features|        prediction|\n",
            "+--------------------+------------------+\n",
            "|[4.0,220.0,54.0,1...|21.285896173691697|\n",
            "|[5.0,115.0,35.74,...| 11.94919348087263|\n",
            "|[6.0,30.276999999...| 4.410694507922032|\n",
            "|[6.0,90.0,20.0,9....|10.152697716259087|\n",
            "|[6.0,110.23899999...|11.056029921011056|\n",
            "|[7.0,116.0,31.0,9...|12.781144601596495|\n",
            "|[7.0,158.0,43.7,1...|13.869086776310365|\n",
            "|[8.0,77.499,19.5,...| 8.636200219050137|\n",
            "|[9.0,81.0,21.44,9...| 9.569197300367053|\n",
            "|[9.0,85.0,19.68,9...| 9.374644287356935|\n",
            "|[9.0,90.09,25.01,...| 9.229393346064635|\n",
            "|[9.0,116.0,26.0,9...|11.269993388226059|\n",
            "|[10.0,46.0,7.0,6....| 2.704058531829168|\n",
            "|[10.0,68.0,10.8,7...|6.5242351509248895|\n",
            "|[10.0,77.0,20.16,...| 8.837317482915477|\n",
            "|[10.0,110.0,29.74...|12.188636209200425|\n",
            "|[12.0,50.0,7.0,7....| 4.329870798620252|\n",
            "|[12.0,90.09,25.01...| 8.793879679366858|\n",
            "|[13.0,25.0,3.82,5...| 2.770470024768669|\n",
            "|[13.0,61.0,13.8,7...| 6.475430204435072|\n",
            "+--------------------+------------------+\n",
            "only showing top 20 rows\n",
            "\n"
          ]
        }
      ]
    }
  ]
}