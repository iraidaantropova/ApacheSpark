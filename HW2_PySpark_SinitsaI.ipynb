{
  "nbformat": 4,
  "nbformat_minor": 0,
  "metadata": {
    "colab": {
      "provenance": [],
      "authorship_tag": "ABX9TyNr3gqKtKNgLUifcbrlrTDU",
      "include_colab_link": true
    },
    "kernelspec": {
      "name": "python3",
      "display_name": "Python 3"
    },
    "language_info": {
      "name": "python"
    }
  },
  "cells": [
    {
      "cell_type": "markdown",
      "metadata": {
        "id": "view-in-github",
        "colab_type": "text"
      },
      "source": [
        "<a href=\"https://colab.research.google.com/github/iraidaantropova/ApacheSpark/blob/main/HW2_PySpark_SinitsaI.ipynb\" target=\"_parent\"><img src=\"https://colab.research.google.com/assets/colab-badge.svg\" alt=\"Open In Colab\"/></a>"
      ]
    },
    {
      "cell_type": "code",
      "source": [
        "!pip install pyspark"
      ],
      "metadata": {
        "colab": {
          "base_uri": "https://localhost:8080/"
        },
        "id": "U7LuQekE0b-6",
        "outputId": "35ceed88-71e4-45d5-8d78-dfe090c70cba"
      },
      "execution_count": 1,
      "outputs": [
        {
          "output_type": "stream",
          "name": "stdout",
          "text": [
            "Collecting pyspark\n",
            "  Downloading pyspark-3.4.1.tar.gz (310.8 MB)\n",
            "\u001b[2K     \u001b[90m━━━━━━━━━━━━━━━━━━━━━━━━━━━━━━━━━━━━━━━\u001b[0m \u001b[32m310.8/310.8 MB\u001b[0m \u001b[31m4.7 MB/s\u001b[0m eta \u001b[36m0:00:00\u001b[0m\n",
            "\u001b[?25h  Preparing metadata (setup.py) ... \u001b[?25l\u001b[?25hdone\n",
            "Requirement already satisfied: py4j==0.10.9.7 in /usr/local/lib/python3.10/dist-packages (from pyspark) (0.10.9.7)\n",
            "Building wheels for collected packages: pyspark\n",
            "  Building wheel for pyspark (setup.py) ... \u001b[?25l\u001b[?25hdone\n",
            "  Created wheel for pyspark: filename=pyspark-3.4.1-py2.py3-none-any.whl size=311285398 sha256=ff56c7602ec3a610c456c708dacb9780fa6d307e57d29ad50991fe89f186bcfe\n",
            "  Stored in directory: /root/.cache/pip/wheels/0d/77/a3/ff2f74cc9ab41f8f594dabf0579c2a7c6de920d584206e0834\n",
            "Successfully built pyspark\n",
            "Installing collected packages: pyspark\n",
            "Successfully installed pyspark-3.4.1\n"
          ]
        }
      ]
    },
    {
      "cell_type": "markdown",
      "source": [
        "Домашняя работа\n",
        "\n",
        "Прочитайте файлы в rdd, проведите их анализ, и расскажите, чем они отлачаются (для оценки отлично достаточно чтения файла и просмотра части его содержимого и сравнения названия колонок)."
      ],
      "metadata": {
        "id": "vpowKN7K3sre"
      }
    },
    {
      "cell_type": "code",
      "source": [
        "#создание точки входа для Spark\n",
        "from pyspark.sql import SparkSession\n",
        "\n",
        "spark = SparkSession.builder\\\n",
        "        .master(\"local[4]\")\\\n",
        "        .appName('HW_Lesson_2')\\\n",
        "        .config('spark.executor.instances', 4)\\\n",
        "        .config('spark.executor.memory', f'{int(3000/1.1)}mb')\\\n",
        "        .config('spark.executor.cores', 1)\\\n",
        "        .getOrCreate()\n",
        "\n",
        "\n",
        "sc = spark.sparkContext"
      ],
      "metadata": {
        "id": "SSZXcCMP0fUj"
      },
      "execution_count": 2,
      "outputs": []
    },
    {
      "cell_type": "code",
      "source": [
        "# Вспомогательная функция\n",
        "\n",
        "def beautiful_print(rdd, num, title):\n",
        "    print(title)\n",
        "    for row in rdd.take(num):\n",
        "        print('\\t', row)"
      ],
      "metadata": {
        "id": "_JRoiJga2_a0"
      },
      "execution_count": 4,
      "outputs": []
    },
    {
      "cell_type": "code",
      "source": [
        "data = sc.textFile('train.csv')"
      ],
      "metadata": {
        "id": "IGtbTqGz3Dtg"
      },
      "execution_count": 5,
      "outputs": []
    },
    {
      "cell_type": "code",
      "source": [
        "data.take(3)"
      ],
      "metadata": {
        "colab": {
          "base_uri": "https://localhost:8080/"
        },
        "id": "iccXR86t3OW8",
        "outputId": "e13b6d23-e0f9-4039-cf1e-06a106f7ebd4"
      },
      "execution_count": 6,
      "outputs": [
        {
          "output_type": "execute_result",
          "data": {
            "text/plain": [
              "['battery_power,blue,clock_speed,dual_sim,fc,four_g,int_memory,m_dep,mobile_wt,n_cores,pc,px_height,px_width,ram,sc_h,sc_w,talk_time,three_g,touch_screen,wifi,price_range',\n",
              " '842,0,2.2,0,1,0,7,0.6,188,2,2,20,756,2549,9,7,19,0,0,1,1',\n",
              " '1021,1,0.5,1,0,1,53,0.7,136,3,6,905,1988,2631,17,3,7,1,1,0,2']"
            ]
          },
          "metadata": {},
          "execution_count": 6
        }
      ]
    },
    {
      "cell_type": "code",
      "source": [
        "data_header = data.first()\n",
        "data_header"
      ],
      "metadata": {
        "colab": {
          "base_uri": "https://localhost:8080/",
          "height": 53
        },
        "id": "SUrfrm3-3RIp",
        "outputId": "9bdb9962-48ba-4ee6-b8b9-63ddb59b4450"
      },
      "execution_count": 7,
      "outputs": [
        {
          "output_type": "execute_result",
          "data": {
            "text/plain": [
              "'battery_power,blue,clock_speed,dual_sim,fc,four_g,int_memory,m_dep,mobile_wt,n_cores,pc,px_height,px_width,ram,sc_h,sc_w,talk_time,three_g,touch_screen,wifi,price_range'"
            ],
            "application/vnd.google.colaboratory.intrinsic+json": {
              "type": "string"
            }
          },
          "metadata": {},
          "execution_count": 7
        }
      ]
    },
    {
      "cell_type": "code",
      "source": [
        "data = data.filter(lambda row: row != data_header)\n",
        "data.take(3)"
      ],
      "metadata": {
        "colab": {
          "base_uri": "https://localhost:8080/"
        },
        "id": "kEsXVPLm3Wg0",
        "outputId": "d1c7c247-1c5e-428a-98e8-2763ce48edac"
      },
      "execution_count": 8,
      "outputs": [
        {
          "output_type": "execute_result",
          "data": {
            "text/plain": [
              "['842,0,2.2,0,1,0,7,0.6,188,2,2,20,756,2549,9,7,19,0,0,1,1',\n",
              " '1021,1,0.5,1,0,1,53,0.7,136,3,6,905,1988,2631,17,3,7,1,1,0,2',\n",
              " '563,1,0.5,1,2,1,41,0.9,145,5,6,1263,1716,2603,11,2,9,1,1,0,2']"
            ]
          },
          "metadata": {},
          "execution_count": 8
        }
      ]
    },
    {
      "cell_type": "code",
      "source": [
        "data = data.map(lambda row: row.split(','))\n",
        "beautiful_print(data, 3, 'Splitted:')"
      ],
      "metadata": {
        "colab": {
          "base_uri": "https://localhost:8080/"
        },
        "id": "IsuhNf4e3aMr",
        "outputId": "fb7a0e40-274e-4db2-cdfd-180d415f2611"
      },
      "execution_count": 9,
      "outputs": [
        {
          "output_type": "stream",
          "name": "stdout",
          "text": [
            "Splitted:\n",
            "\t ['842', '0', '2.2', '0', '1', '0', '7', '0.6', '188', '2', '2', '20', '756', '2549', '9', '7', '19', '0', '0', '1', '1']\n",
            "\t ['1021', '1', '0.5', '1', '0', '1', '53', '0.7', '136', '3', '6', '905', '1988', '2631', '17', '3', '7', '1', '1', '0', '2']\n",
            "\t ['563', '1', '0.5', '1', '2', '1', '41', '0.9', '145', '5', '6', '1263', '1716', '2603', '11', '2', '9', '1', '1', '0', '2']\n"
          ]
        }
      ]
    },
    {
      "cell_type": "code",
      "source": [
        "data = data.map(lambda row: [float(el) for el in row])\n",
        "beautiful_print(data, 3, 'Float:')"
      ],
      "metadata": {
        "colab": {
          "base_uri": "https://localhost:8080/"
        },
        "id": "HfzOV_iI3c1D",
        "outputId": "40c49640-eb8d-401f-bdb1-7b46a5038e5f"
      },
      "execution_count": 10,
      "outputs": [
        {
          "output_type": "stream",
          "name": "stdout",
          "text": [
            "Float:\n",
            "\t [842.0, 0.0, 2.2, 0.0, 1.0, 0.0, 7.0, 0.6, 188.0, 2.0, 2.0, 20.0, 756.0, 2549.0, 9.0, 7.0, 19.0, 0.0, 0.0, 1.0, 1.0]\n",
            "\t [1021.0, 1.0, 0.5, 1.0, 0.0, 1.0, 53.0, 0.7, 136.0, 3.0, 6.0, 905.0, 1988.0, 2631.0, 17.0, 3.0, 7.0, 1.0, 1.0, 0.0, 2.0]\n",
            "\t [563.0, 1.0, 0.5, 1.0, 2.0, 1.0, 41.0, 0.9, 145.0, 5.0, 6.0, 1263.0, 1716.0, 2603.0, 11.0, 2.0, 9.0, 1.0, 1.0, 0.0, 2.0]\n"
          ]
        }
      ]
    },
    {
      "cell_type": "code",
      "source": [
        "col_num = [x[0] for x in enumerate(data_header.split(',')) if x[1] == 'ram'][0]"
      ],
      "metadata": {
        "id": "s8MjczSj3gN6"
      },
      "execution_count": 11,
      "outputs": []
    },
    {
      "cell_type": "code",
      "source": [
        "data.map(lambda row: (round(row[col_num] / 1024, 1), 1)).countByKey()"
      ],
      "metadata": {
        "colab": {
          "base_uri": "https://localhost:8080/"
        },
        "id": "RQjz4L333ii0",
        "outputId": "cc7cbd16-b44d-4bf5-cb81-a6967b12de92"
      },
      "execution_count": 12,
      "outputs": [
        {
          "output_type": "execute_result",
          "data": {
            "text/plain": [
              "defaultdict(int,\n",
              "            {2.5: 61,\n",
              "             2.6: 59,\n",
              "             2.7: 49,\n",
              "             1.4: 67,\n",
              "             1.0: 51,\n",
              "             3.1: 54,\n",
              "             0.7: 56,\n",
              "             1.1: 44,\n",
              "             0.5: 56,\n",
              "             3.9: 29,\n",
              "             3.7: 53,\n",
              "             0.4: 51,\n",
              "             0.6: 65,\n",
              "             3.5: 59,\n",
              "             1.8: 57,\n",
              "             2.3: 76,\n",
              "             2.8: 45,\n",
              "             3.2: 57,\n",
              "             3.4: 53,\n",
              "             2.2: 55,\n",
              "             3.8: 63,\n",
              "             1.2: 66,\n",
              "             1.3: 61,\n",
              "             2.1: 55,\n",
              "             3.3: 49,\n",
              "             2.4: 52,\n",
              "             1.6: 59,\n",
              "             2.0: 61,\n",
              "             3.0: 45,\n",
              "             0.9: 49,\n",
              "             2.9: 53,\n",
              "             3.6: 56,\n",
              "             0.8: 51,\n",
              "             1.9: 41,\n",
              "             0.3: 57,\n",
              "             1.7: 48,\n",
              "             1.5: 36,\n",
              "             0.2: 1})"
            ]
          },
          "metadata": {},
          "execution_count": 12
        }
      ]
    }
  ]
}