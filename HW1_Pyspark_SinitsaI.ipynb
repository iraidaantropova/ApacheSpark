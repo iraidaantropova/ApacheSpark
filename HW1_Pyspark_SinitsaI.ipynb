{
  "nbformat": 4,
  "nbformat_minor": 0,
  "metadata": {
    "colab": {
      "provenance": [],
      "authorship_tag": "ABX9TyNHq944Kx2ltuCfXyt4xT6j",
      "include_colab_link": true
    },
    "kernelspec": {
      "name": "python3",
      "display_name": "Python 3"
    },
    "language_info": {
      "name": "python"
    }
  },
  "cells": [
    {
      "cell_type": "markdown",
      "metadata": {
        "id": "view-in-github",
        "colab_type": "text"
      },
      "source": [
        "<a href=\"https://colab.research.google.com/github/iraidaantropova/ApacheSpark/blob/main/HW1_Pyspark_SinitsaI.ipynb\" target=\"_parent\"><img src=\"https://colab.research.google.com/assets/colab-badge.svg\" alt=\"Open In Colab\"/></a>"
      ]
    },
    {
      "cell_type": "code",
      "source": [
        "!pip install pyspark"
      ],
      "metadata": {
        "colab": {
          "base_uri": "https://localhost:8080/"
        },
        "id": "vZTfRU4LerTp",
        "outputId": "3d831941-cfaa-4dc8-ebe3-5be4779c8431"
      },
      "execution_count": 1,
      "outputs": [
        {
          "output_type": "stream",
          "name": "stdout",
          "text": [
            "Collecting pyspark\n",
            "  Downloading pyspark-3.4.1.tar.gz (310.8 MB)\n",
            "\u001b[2K     \u001b[90m━━━━━━━━━━━━━━━━━━━━━━━━━━━━━━━━━━━━━━━\u001b[0m \u001b[32m310.8/310.8 MB\u001b[0m \u001b[31m4.2 MB/s\u001b[0m eta \u001b[36m0:00:00\u001b[0m\n",
            "\u001b[?25h  Preparing metadata (setup.py) ... \u001b[?25l\u001b[?25hdone\n",
            "Requirement already satisfied: py4j==0.10.9.7 in /usr/local/lib/python3.10/dist-packages (from pyspark) (0.10.9.7)\n",
            "Building wheels for collected packages: pyspark\n",
            "  Building wheel for pyspark (setup.py) ... \u001b[?25l\u001b[?25hdone\n",
            "  Created wheel for pyspark: filename=pyspark-3.4.1-py2.py3-none-any.whl size=311285398 sha256=d3a520a44f6981f7d4ecf25d629175255eab61a075ba3e9843159ccc0742f120\n",
            "  Stored in directory: /root/.cache/pip/wheels/0d/77/a3/ff2f74cc9ab41f8f594dabf0579c2a7c6de920d584206e0834\n",
            "Successfully built pyspark\n",
            "Installing collected packages: pyspark\n",
            "Successfully installed pyspark-3.4.1\n"
          ]
        }
      ]
    },
    {
      "cell_type": "code",
      "source": [
        "#создание точки входа для Spark\n",
        "from pyspark.sql import SparkSession\n",
        "\n",
        "spark = SparkSession.builder\\\n",
        "        .master(\"local[4]\")\\\n",
        "        .appName(\"Colab_pyspark\")\\\n",
        "        .config('spark.ui.port', '4050')\\\n",
        "        .getOrCreate()"
      ],
      "metadata": {
        "id": "AOgrH7XIfBwQ"
      },
      "execution_count": 3,
      "outputs": []
    },
    {
      "cell_type": "code",
      "source": [
        "sc = spark.sparkContext"
      ],
      "metadata": {
        "id": "n0R8x0donis9"
      },
      "execution_count": 4,
      "outputs": []
    },
    {
      "cell_type": "code",
      "source": [
        "sc"
      ],
      "metadata": {
        "colab": {
          "base_uri": "https://localhost:8080/",
          "height": 196
        },
        "id": "-NUHcSZKnoZp",
        "outputId": "4b96477f-6c0e-4ea9-c8c1-56ca51b80233"
      },
      "execution_count": 5,
      "outputs": [
        {
          "output_type": "execute_result",
          "data": {
            "text/plain": [
              "<SparkContext master=local[4] appName=Colab_pyspark>"
            ],
            "text/html": [
              "\n",
              "        <div>\n",
              "            <p><b>SparkContext</b></p>\n",
              "\n",
              "            <p><a href=\"http://4d342c0e01b3:4050\">Spark UI</a></p>\n",
              "\n",
              "            <dl>\n",
              "              <dt>Version</dt>\n",
              "                <dd><code>v3.4.1</code></dd>\n",
              "              <dt>Master</dt>\n",
              "                <dd><code>local[4]</code></dd>\n",
              "              <dt>AppName</dt>\n",
              "                <dd><code>Colab_pyspark</code></dd>\n",
              "            </dl>\n",
              "        </div>\n",
              "        "
            ]
          },
          "metadata": {},
          "execution_count": 5
        }
      ]
    },
    {
      "cell_type": "code",
      "source": [
        "spark"
      ],
      "metadata": {
        "colab": {
          "base_uri": "https://localhost:8080/",
          "height": 219
        },
        "id": "ulltXViJnqiF",
        "outputId": "e220144e-4597-43c6-eff8-1b163032712d"
      },
      "execution_count": 6,
      "outputs": [
        {
          "output_type": "execute_result",
          "data": {
            "text/plain": [
              "<pyspark.sql.session.SparkSession at 0x7f65c80ebac0>"
            ],
            "text/html": [
              "\n",
              "            <div>\n",
              "                <p><b>SparkSession - in-memory</b></p>\n",
              "                \n",
              "        <div>\n",
              "            <p><b>SparkContext</b></p>\n",
              "\n",
              "            <p><a href=\"http://4d342c0e01b3:4050\">Spark UI</a></p>\n",
              "\n",
              "            <dl>\n",
              "              <dt>Version</dt>\n",
              "                <dd><code>v3.4.1</code></dd>\n",
              "              <dt>Master</dt>\n",
              "                <dd><code>local[4]</code></dd>\n",
              "              <dt>AppName</dt>\n",
              "                <dd><code>Colab_pyspark</code></dd>\n",
              "            </dl>\n",
              "        </div>\n",
              "        \n",
              "            </div>\n",
              "        "
            ]
          },
          "metadata": {},
          "execution_count": 6
        }
      ]
    },
    {
      "cell_type": "code",
      "source": [
        "# Просмотр текущей конфигурации\n",
        "from pyspark import SparkConf\n",
        "\n",
        "SparkConf().getAll()"
      ],
      "metadata": {
        "colab": {
          "base_uri": "https://localhost:8080/"
        },
        "id": "koimcavqnsou",
        "outputId": "87e5ebd3-a065-4240-bf6c-cf3de1897cf3"
      },
      "execution_count": 7,
      "outputs": [
        {
          "output_type": "execute_result",
          "data": {
            "text/plain": [
              "[('spark.ui.port', '4050'),\n",
              " ('spark.master', 'local[4]'),\n",
              " ('spark.app.submitTime', '1689143494369'),\n",
              " ('spark.app.name', 'Colab_pyspark'),\n",
              " ('spark.submit.pyFiles', ''),\n",
              " ('spark.submit.deployMode', 'client'),\n",
              " ('spark.ui.showConsoleProgress', 'true')]"
            ]
          },
          "metadata": {},
          "execution_count": 7
        }
      ]
    },
    {
      "cell_type": "code",
      "source": [
        "#создание dataframe и его вывод\n",
        "\n",
        "MyTable = [\n",
        "('Ведомость технического проекта (рабочей документации)','Ганин','готово','Георгий','34','ТП'),\n",
        "('Общее описание системы','Преображенская','готово','Георгий','34','ПД'),\n",
        "('Схема структурная комплекса технических средств','Ганин','частично  требует утверждения','Преображенская','34','С1'),\n",
        "('Схема соединений внешних проводок','Ганин','готово  фейковый чертеж','Георгий','34','С4'),\n",
        "('Таблица соединений и подключений','Ганин','готово','Георгий','34','С6'),\n",
        "('Чертеж установки технических средств','Ганин','готово  фейковый чертеж','Георгий','34','СА'),\n",
        "('План расположения оборудования и проводок','Ганин','готово  фейковый чертеж','Георгий','34','С7'),\n",
        "('Программа и методика испытаний','Преображенская','готово','Георгий','34','ПМ'),\n",
        "('План IP-адресации','Ганин','готово','Георгий','','ПАА'),\n",
        "('Паспорт','Ганин','готово','Преображенская','34','ПС'),\n",
        "('Инструкция по эксплуатации КТС','Георгий','готово','Ганин','34','ИЭ'),\n",
        "('Технологическая инструкция','Георгий','готово','Преображенская','34','И2'),\n",
        "('Ведомость ЗИП','Ганин','готово','Георгий','2.601','ЗИ'),\n",
        "('Программа опытной эксплуатации','Ганин','готово','Преображенская','34.603','ПОЭ'),\n",
        "('Протокол проведения испытаний и измерений параметров электроустановок','Ганин','готово','Преображенская','','Б4'),\n",
        "('Протокол проведения пуско-наладочных работ на оборудовании ПАК ЦП','Ганин','готово','Преображенская','','Б5'),\n",
        "('Протокол проведения предварительных испытаний ПАК ЦП','Преображенская','готово','Ганин','ГОСТ 59795-2021','Б6'),\n",
        "('Отчет о проведении опытной эксплуатации ПАК ЦП','Ганин','готово','Преображенская','','ООЭ'),\n",
        "('Протокол проведения приемочных испытаний ПАК ЦП','Преображенская','готово','Ганин','ГОСТ 59795-2021','Б7'),\n",
        "('Руководство администратора','Георгий','готово','Преображенская','19.503','И4'),\n",
        "('Руководство пользователя','Преображенская','готово','Георгий','34','И3'),\n",
        "('Регламент технического обслуживания ПАК ЦП','Ганин','готово','Георгий','','И5')\n",
        "]\n",
        "\n",
        "ColumnNames = ['Наименование документа','Ответственный','Состояние на 30 декабря','проверка','ГОСТ','код по ГОСТ']\n",
        "df = spark.createDataFrame(data=MyTable, schema = ColumnNames)"
      ],
      "metadata": {
        "id": "9075df3HoQhd"
      },
      "execution_count": 8,
      "outputs": []
    },
    {
      "cell_type": "code",
      "source": [
        "df.show()"
      ],
      "metadata": {
        "colab": {
          "base_uri": "https://localhost:8080/"
        },
        "id": "xSvVR261oa2O",
        "outputId": "da617c22-7aab-4722-ff7e-e89ceaa41e3c"
      },
      "execution_count": 9,
      "outputs": [
        {
          "output_type": "stream",
          "name": "stdout",
          "text": [
            "+----------------------+--------------+-----------------------+--------------+---------------+-----------+\n",
            "|Наименование документа| Ответственный|Состояние на 30 декабря|      проверка|           ГОСТ|код по ГОСТ|\n",
            "+----------------------+--------------+-----------------------+--------------+---------------+-----------+\n",
            "|  Ведомость техниче...|         Ганин|                 готово|       Георгий|             34|         ТП|\n",
            "|  Общее описание си...|Преображенская|                 готово|       Георгий|             34|         ПД|\n",
            "|  Схема структурная...|         Ганин|   частично  требует...|Преображенская|             34|         С1|\n",
            "|  Схема соединений ...|         Ганин|   готово  фейковый ...|       Георгий|             34|         С4|\n",
            "|  Таблица соединени...|         Ганин|                 готово|       Георгий|             34|         С6|\n",
            "|  Чертеж установки ...|         Ганин|   готово  фейковый ...|       Георгий|             34|         СА|\n",
            "|  План расположения...|         Ганин|   готово  фейковый ...|       Георгий|             34|         С7|\n",
            "|  Программа и метод...|Преображенская|                 готово|       Георгий|             34|         ПМ|\n",
            "|     План IP-адресации|         Ганин|                 готово|       Георгий|               |        ПАА|\n",
            "|               Паспорт|         Ганин|                 готово|Преображенская|             34|         ПС|\n",
            "|  Инструкция по экс...|       Георгий|                 готово|         Ганин|             34|         ИЭ|\n",
            "|  Технологическая и...|       Георгий|                 готово|Преображенская|             34|         И2|\n",
            "|         Ведомость ЗИП|         Ганин|                 готово|       Георгий|          2.601|         ЗИ|\n",
            "|  Программа опытной...|         Ганин|                 готово|Преображенская|         34.603|        ПОЭ|\n",
            "|  Протокол проведен...|         Ганин|                 готово|Преображенская|               |         Б4|\n",
            "|  Протокол проведен...|         Ганин|                 готово|Преображенская|               |         Б5|\n",
            "|  Протокол проведен...|Преображенская|                 готово|         Ганин|ГОСТ 59795-2021|         Б6|\n",
            "|  Отчет о проведени...|         Ганин|                 готово|Преображенская|               |        ООЭ|\n",
            "|  Протокол проведен...|Преображенская|                 готово|         Ганин|ГОСТ 59795-2021|         Б7|\n",
            "|  Руководство админ...|       Георгий|                 готово|Преображенская|         19.503|         И4|\n",
            "+----------------------+--------------+-----------------------+--------------+---------------+-----------+\n",
            "only showing top 20 rows\n",
            "\n"
          ]
        }
      ]
    },
    {
      "cell_type": "code",
      "source": [
        "# https://drive.google.com/file/d/1o_dAZeIIvmjGwl27yKBDOi3dhPjn8VvT/view?usp=share_link\n",
        "\n",
        "\n",
        "!wget 'https://drive.google.com/uc?id=1o_dAZeIIvmjGwl27yKBDOi3dhPjn8VvT' -O Outsource2022.csv"
      ],
      "metadata": {
        "colab": {
          "base_uri": "https://localhost:8080/"
        },
        "id": "iAJvcYdio5Id",
        "outputId": "69a520d9-c4ca-43a8-c914-3dfe7435a9da"
      },
      "execution_count": 11,
      "outputs": [
        {
          "output_type": "stream",
          "name": "stdout",
          "text": [
            "--2023-07-12 06:38:46--  https://drive.google.com/uc?id=1o_dAZeIIvmjGwl27yKBDOi3dhPjn8VvT\n",
            "Resolving drive.google.com (drive.google.com)... 172.217.204.138, 172.217.204.101, 172.217.204.102, ...\n",
            "Connecting to drive.google.com (drive.google.com)|172.217.204.138|:443... connected.\n",
            "HTTP request sent, awaiting response... 303 See Other\n",
            "Location: https://doc-0k-0s-docs.googleusercontent.com/docs/securesc/ha0ro937gcuc7l7deffksulhg5h7mbp1/9r0g0kg17esdqpcvvra3d9mcafbhpf0u/1689143925000/00208950482555484178/*/1o_dAZeIIvmjGwl27yKBDOi3dhPjn8VvT?uuid=b401dd0e-ea6f-4976-b938-d2407e68eddf [following]\n",
            "Warning: wildcards not supported in HTTP.\n",
            "--2023-07-12 06:38:47--  https://doc-0k-0s-docs.googleusercontent.com/docs/securesc/ha0ro937gcuc7l7deffksulhg5h7mbp1/9r0g0kg17esdqpcvvra3d9mcafbhpf0u/1689143925000/00208950482555484178/*/1o_dAZeIIvmjGwl27yKBDOi3dhPjn8VvT?uuid=b401dd0e-ea6f-4976-b938-d2407e68eddf\n",
            "Resolving doc-0k-0s-docs.googleusercontent.com (doc-0k-0s-docs.googleusercontent.com)... 173.194.210.132, 2607:f8b0:400c:c0f::84\n",
            "Connecting to doc-0k-0s-docs.googleusercontent.com (doc-0k-0s-docs.googleusercontent.com)|173.194.210.132|:443... connected.\n",
            "HTTP request sent, awaiting response... 200 OK\n",
            "Length: 971 [text/csv]\n",
            "Saving to: ‘Outsource2022.csv’\n",
            "\n",
            "Outsource2022.csv   100%[===================>]     971  --.-KB/s    in 0s      \n",
            "\n",
            "2023-07-12 06:38:47 (74.3 MB/s) - ‘Outsource2022.csv’ saved [971/971]\n",
            "\n"
          ]
        }
      ]
    },
    {
      "cell_type": "code",
      "source": [
        "df = spark.read.csv(\"Outsource2022.csv\", header=True, inferSchema=True, sep=';')"
      ],
      "metadata": {
        "id": "0EaO6q2ho9IC"
      },
      "execution_count": 12,
      "outputs": []
    },
    {
      "cell_type": "code",
      "source": [
        "df.show()"
      ],
      "metadata": {
        "colab": {
          "base_uri": "https://localhost:8080/"
        },
        "id": "ie3v5FmYo_uW",
        "outputId": "08fc95d2-265f-43d0-8ef9-84d3ef4ca093"
      },
      "execution_count": 13,
      "outputs": [
        {
          "output_type": "stream",
          "name": "stdout",
          "text": [
            "+----+----------------------------------------------------+--------------------+--------------------+------------------------+---------------------------+\n",
            "|   №|Наименование проекта, по которому работали в 2022 г.|наименование клиента|сумма проекта, всего|Сумма, полученная в 2022|дата закрытия работ актами |\n",
            "+----+----------------------------------------------------+--------------------+--------------------+------------------------+---------------------------+\n",
            "|   1|                                1_Спутник_ИСПоиск...|\"ООО \"\"ПП \"\"Спутн...|        14 731 200 ₽|             8 653 775 ₽|       25.12.2021, 31.03...|\n",
            "|   2|                                RTK_ЦифроваяПлатф...|          Ростелеком|         8 291 000 ₽|                     0 ₽|                 25.12.2021|\n",
            "|   3|                                RTK_ЦифроваяПлатф...|          Ростелеком|         2 552 960 ₽|             2 552 960 ₽|       14.04.2022, 29.06...|\n",
            "|   4|                                RTK_МирандаМедиа_ПАК|       Миранда Медиа|         2 452 500 ₽|                     0 ₽|                         - |\n",
            "|   5|                                ТюменьВодоканал_О...|    ТюменьВОдоканал |         1 770 489 ₽|                     0 ₽|                         - |\n",
            "|null|                                                null|                null|        29 798 149 ₽|            11 206 735 ₽|                       null|\n",
            "+----+----------------------------------------------------+--------------------+--------------------+------------------------+---------------------------+\n",
            "\n"
          ]
        }
      ]
    },
    {
      "cell_type": "code",
      "source": [
        "!pwd"
      ],
      "metadata": {
        "colab": {
          "base_uri": "https://localhost:8080/"
        },
        "id": "WXX4wRJ5pBsX",
        "outputId": "3c1462eb-6725-4908-c5ad-01c510cdecd4"
      },
      "execution_count": 14,
      "outputs": [
        {
          "output_type": "stream",
          "name": "stdout",
          "text": [
            "/content\n"
          ]
        }
      ]
    }
  ]
}